{
 "cells": [
  {
   "cell_type": "code",
   "execution_count": 109,
   "metadata": {
    "collapsed": false
   },
   "outputs": [],
   "source": [
    "import pandas as pd\n",
    "import matplotlib.pyplot as plt\n",
    "import numpy as np"
   ]
  },
  {
   "cell_type": "code",
   "execution_count": 154,
   "metadata": {
    "collapsed": false
   },
   "outputs": [],
   "source": [
    "df = pd.read_csv('data.tsv', sep='\\t', names=['timestamp', 'transport_id', 'transport_type', 'route_id', 'lat', 'lon'],\n",
    "                parse_dates=[0], dtype={'transport_id': 'category', 'type': 'category', 'route_id': 'category'})\n",
    "target_stops = pd.read_csv('debug.tsv', sep='\\t', names=['transport_type', 'route_id', 'lat', 'lon'],\n",
    "                           dtype={'id': 'category', 'type': 'category', 'route_id': 'category'})"
   ]
  },
  {
   "cell_type": "code",
   "execution_count": 152,
   "metadata": {
    "collapsed": false
   },
   "outputs": [
    {
     "data": {
      "text/html": [
       "<div>\n",
       "<table border=\"1\" class=\"dataframe\">\n",
       "  <thead>\n",
       "    <tr style=\"text-align: right;\">\n",
       "      <th></th>\n",
       "      <th>timestamp</th>\n",
       "      <th>transport_id</th>\n",
       "      <th>transport_type</th>\n",
       "      <th>route_id</th>\n",
       "      <th>lat</th>\n",
       "      <th>lon</th>\n",
       "    </tr>\n",
       "  </thead>\n",
       "  <tbody>\n",
       "    <tr>\n",
       "      <th>0</th>\n",
       "      <td>2015-05-12 14:24:33</td>\n",
       "      <td>3982</td>\n",
       "      <td>tramway</td>\n",
       "      <td>1</td>\n",
       "      <td>50.700576</td>\n",
       "      <td>51.212909</td>\n",
       "    </tr>\n",
       "    <tr>\n",
       "      <th>1</th>\n",
       "      <td>2015-05-12 14:25:13</td>\n",
       "      <td>3982</td>\n",
       "      <td>tramway</td>\n",
       "      <td>1</td>\n",
       "      <td>50.702068</td>\n",
       "      <td>51.212772</td>\n",
       "    </tr>\n",
       "    <tr>\n",
       "      <th>2</th>\n",
       "      <td>2015-05-12 14:25:53</td>\n",
       "      <td>3982</td>\n",
       "      <td>tramway</td>\n",
       "      <td>1</td>\n",
       "      <td>50.702930</td>\n",
       "      <td>51.212703</td>\n",
       "    </tr>\n",
       "    <tr>\n",
       "      <th>3</th>\n",
       "      <td>2015-05-12 14:26:33</td>\n",
       "      <td>3982</td>\n",
       "      <td>tramway</td>\n",
       "      <td>1</td>\n",
       "      <td>50.705974</td>\n",
       "      <td>51.212421</td>\n",
       "    </tr>\n",
       "    <tr>\n",
       "      <th>4</th>\n",
       "      <td>2015-05-12 14:27:13</td>\n",
       "      <td>3982</td>\n",
       "      <td>tramway</td>\n",
       "      <td>1</td>\n",
       "      <td>50.706775</td>\n",
       "      <td>51.212428</td>\n",
       "    </tr>\n",
       "  </tbody>\n",
       "</table>\n",
       "</div>"
      ],
      "text/plain": [
       "            timestamp  transport_id transport_type route_id        lat  \\\n",
       "0 2015-05-12 14:24:33          3982        tramway        1  50.700576   \n",
       "1 2015-05-12 14:25:13          3982        tramway        1  50.702068   \n",
       "2 2015-05-12 14:25:53          3982        tramway        1  50.702930   \n",
       "3 2015-05-12 14:26:33          3982        tramway        1  50.705974   \n",
       "4 2015-05-12 14:27:13          3982        tramway        1  50.706775   \n",
       "\n",
       "         lon  \n",
       "0  51.212909  \n",
       "1  51.212772  \n",
       "2  51.212703  \n",
       "3  51.212421  \n",
       "4  51.212428  "
      ]
     },
     "execution_count": 152,
     "metadata": {},
     "output_type": "execute_result"
    }
   ],
   "source": [
    "df.head()"
   ]
  },
  {
   "cell_type": "code",
   "execution_count": 155,
   "metadata": {
    "collapsed": false
   },
   "outputs": [
    {
     "data": {
      "text/html": [
       "<div>\n",
       "<table border=\"1\" class=\"dataframe\">\n",
       "  <thead>\n",
       "    <tr style=\"text-align: right;\">\n",
       "      <th></th>\n",
       "      <th>lat</th>\n",
       "      <th>lon</th>\n",
       "    </tr>\n",
       "  </thead>\n",
       "  <tbody>\n",
       "    <tr>\n",
       "      <th>count</th>\n",
       "      <td>1.064095e+06</td>\n",
       "      <td>1.064095e+06</td>\n",
       "    </tr>\n",
       "    <tr>\n",
       "      <th>mean</th>\n",
       "      <td>5.060662e+01</td>\n",
       "      <td>5.110628e+01</td>\n",
       "    </tr>\n",
       "    <tr>\n",
       "      <th>std</th>\n",
       "      <td>8.465822e-02</td>\n",
       "      <td>1.437978e-01</td>\n",
       "    </tr>\n",
       "    <tr>\n",
       "      <th>min</th>\n",
       "      <td>5.029642e+01</td>\n",
       "      <td>5.014520e+01</td>\n",
       "    </tr>\n",
       "    <tr>\n",
       "      <th>25%</th>\n",
       "      <td>5.054471e+01</td>\n",
       "      <td>5.105372e+01</td>\n",
       "    </tr>\n",
       "    <tr>\n",
       "      <th>50%</th>\n",
       "      <td>5.061157e+01</td>\n",
       "      <td>5.112848e+01</td>\n",
       "    </tr>\n",
       "    <tr>\n",
       "      <th>75%</th>\n",
       "      <td>5.067606e+01</td>\n",
       "      <td>5.118990e+01</td>\n",
       "    </tr>\n",
       "    <tr>\n",
       "      <th>max</th>\n",
       "      <td>5.104615e+01</td>\n",
       "      <td>5.205867e+01</td>\n",
       "    </tr>\n",
       "  </tbody>\n",
       "</table>\n",
       "</div>"
      ],
      "text/plain": [
       "                lat           lon\n",
       "count  1.064095e+06  1.064095e+06\n",
       "mean   5.060662e+01  5.110628e+01\n",
       "std    8.465822e-02  1.437978e-01\n",
       "min    5.029642e+01  5.014520e+01\n",
       "25%    5.054471e+01  5.105372e+01\n",
       "50%    5.061157e+01  5.112848e+01\n",
       "75%    5.067606e+01  5.118990e+01\n",
       "max    5.104615e+01  5.205867e+01"
      ]
     },
     "execution_count": 155,
     "metadata": {},
     "output_type": "execute_result"
    }
   ],
   "source": [
    "df.describe()"
   ]
  },
  {
   "cell_type": "code",
   "execution_count": 182,
   "metadata": {
    "collapsed": true
   },
   "outputs": [],
   "source": [
    "# route_id = '11'\n",
    "# transport_id = '7299'\n",
    "# transport_type = 'tramway'\n",
    "\n",
    "# route_id = '86'\n",
    "# transport_id = '7090'\n",
    "# transport_type = 'bus'\n",
    "\n",
    "route_id = '71'\n",
    "transport_id = '2991'\n",
    "transport_type = 'trolleybus'"
   ]
  },
  {
   "cell_type": "code",
   "execution_count": 183,
   "metadata": {
    "collapsed": false
   },
   "outputs": [],
   "source": [
    "debug_route = df[  (df['transport_type'] == transport_type) \n",
    "               & (df['route_id'] == route_id)\n",
    "               & (df['transport_id'] == transport_id)]"
   ]
  },
  {
   "cell_type": "code",
   "execution_count": 185,
   "metadata": {
    "collapsed": false
   },
   "outputs": [],
   "source": [
    "debug_route = debug_route.sort_values('timestamp')"
   ]
  },
  {
   "cell_type": "code",
   "execution_count": 186,
   "metadata": {
    "collapsed": false
   },
   "outputs": [
    {
     "data": {
      "text/html": [
       "<div>\n",
       "<table border=\"1\" class=\"dataframe\">\n",
       "  <thead>\n",
       "    <tr style=\"text-align: right;\">\n",
       "      <th></th>\n",
       "      <th>timestamp</th>\n",
       "      <th>transport_id</th>\n",
       "      <th>transport_type</th>\n",
       "      <th>route_id</th>\n",
       "      <th>lat</th>\n",
       "      <th>lon</th>\n",
       "    </tr>\n",
       "  </thead>\n",
       "  <tbody>\n",
       "    <tr>\n",
       "      <th>503762</th>\n",
       "      <td>2015-05-12 18:24:41</td>\n",
       "      <td>2991</td>\n",
       "      <td>trolleybus</td>\n",
       "      <td>71</td>\n",
       "      <td>50.556419</td>\n",
       "      <td>51.059322</td>\n",
       "    </tr>\n",
       "    <tr>\n",
       "      <th>503763</th>\n",
       "      <td>2015-05-12 18:26:01</td>\n",
       "      <td>2991</td>\n",
       "      <td>trolleybus</td>\n",
       "      <td>71</td>\n",
       "      <td>50.556656</td>\n",
       "      <td>51.057040</td>\n",
       "    </tr>\n",
       "    <tr>\n",
       "      <th>503764</th>\n",
       "      <td>2015-05-12 18:28:42</td>\n",
       "      <td>2991</td>\n",
       "      <td>trolleybus</td>\n",
       "      <td>71</td>\n",
       "      <td>50.559059</td>\n",
       "      <td>51.046548</td>\n",
       "    </tr>\n",
       "    <tr>\n",
       "      <th>503765</th>\n",
       "      <td>2015-05-12 18:30:02</td>\n",
       "      <td>2991</td>\n",
       "      <td>trolleybus</td>\n",
       "      <td>71</td>\n",
       "      <td>50.560135</td>\n",
       "      <td>51.042094</td>\n",
       "    </tr>\n",
       "    <tr>\n",
       "      <th>503766</th>\n",
       "      <td>2015-05-12 18:32:41</td>\n",
       "      <td>2991</td>\n",
       "      <td>trolleybus</td>\n",
       "      <td>71</td>\n",
       "      <td>50.558399</td>\n",
       "      <td>51.039382</td>\n",
       "    </tr>\n",
       "  </tbody>\n",
       "</table>\n",
       "</div>"
      ],
      "text/plain": [
       "                 timestamp transport_id transport_type route_id        lat  \\\n",
       "503762 2015-05-12 18:24:41         2991     trolleybus       71  50.556419   \n",
       "503763 2015-05-12 18:26:01         2991     trolleybus       71  50.556656   \n",
       "503764 2015-05-12 18:28:42         2991     trolleybus       71  50.559059   \n",
       "503765 2015-05-12 18:30:02         2991     trolleybus       71  50.560135   \n",
       "503766 2015-05-12 18:32:41         2991     trolleybus       71  50.558399   \n",
       "\n",
       "              lon  \n",
       "503762  51.059322  \n",
       "503763  51.057040  \n",
       "503764  51.046548  \n",
       "503765  51.042094  \n",
       "503766  51.039382  "
      ]
     },
     "execution_count": 186,
     "metadata": {},
     "output_type": "execute_result"
    }
   ],
   "source": [
    "debug_route.head()"
   ]
  },
  {
   "cell_type": "code",
   "execution_count": 187,
   "metadata": {
    "collapsed": true
   },
   "outputs": [],
   "source": [
    "time_deltas = debug_route['timestamp'] - debug_route['timestamp'].shift()"
   ]
  },
  {
   "cell_type": "code",
   "execution_count": 188,
   "metadata": {
    "collapsed": false
   },
   "outputs": [
    {
     "data": {
      "text/plain": [
       "count                       110\n",
       "mean     0 days 00:01:49.700000\n",
       "std      0 days 00:01:19.804411\n",
       "min             0 days 00:01:19\n",
       "25%             0 days 00:01:20\n",
       "50%             0 days 00:01:20\n",
       "75%             0 days 00:01:40\n",
       "max             0 days 00:12:20\n",
       "Name: timestamp, dtype: object"
      ]
     },
     "execution_count": 188,
     "metadata": {},
     "output_type": "execute_result"
    }
   ],
   "source": [
    "time_deltas.describe()"
   ]
  },
  {
   "cell_type": "markdown",
   "metadata": {},
   "source": [
    "Get route reset steps"
   ]
  },
  {
   "cell_type": "code",
   "execution_count": 203,
   "metadata": {
    "collapsed": false
   },
   "outputs": [
    {
     "name": "stdout",
     "output_type": "stream",
     "text": [
      "95% timedelta quantile: 0 days 00:04:00\n",
      "64\n",
      "100\n",
      "104\n"
     ]
    }
   ],
   "source": [
    "split_delta = time_deltas.quantile(0.95)\n",
    "print('95% timedelta quantile:', split_delta)\n",
    "route_reset_steps = [0]\n",
    "for i, delta in enumerate(time_deltas):\n",
    "    if delta > split_delta:\n",
    "        print(i)\n",
    "        route_reset_steps.append(i)"
   ]
  },
  {
   "cell_type": "code",
   "execution_count": 198,
   "metadata": {
    "collapsed": true
   },
   "outputs": [],
   "source": [
    "single_travel = debug_route[route_reset_steps[0]:route_reset_steps[1]]"
   ]
  },
  {
   "cell_type": "code",
   "execution_count": 200,
   "metadata": {
    "collapsed": false
   },
   "outputs": [
    {
     "data": {
      "image/png": "[encoded data removed]",
      "text/plain": [
       "<matplotlib.figure.Figure at 0x7f2867a30c88>"
      ]
     },
     "metadata": {},
     "output_type": "display_data"
    }
   ],
   "source": [
    "target_bus_stops = target_stops[  (target_stops['transport_type'] == transport_type)\n",
    "                                & (target_stops['route_id'] == route_id)]\n",
    "\n",
    "travel_xs = single_travel['lat']\n",
    "travel_ys = single_travel['lon']\n",
    "\n",
    "fig = plt.figure(figsize=(10,7))\n",
    "axes = plt.gca()\n",
    "axes.set_xlim([0.99999 * min(travel_xs), 1.00001 * max(travel_xs)])\n",
    "axes.set_ylim([0.9999 * min(travel_ys), 1.0001 * max(travel_ys)])\n",
    "\n",
    "plt.scatter(travel_xs, travel_ys)\n",
    "plt.scatter(target_bus_stops['lat'], target_bus_stops['lon'], marker='x', color='red', s=50)\n",
    "plt.show()"
   ]
  }
 ],
 "metadata": {
  "kernelspec": {
   "display_name": "Python 3",
   "language": "python",
   "name": "python3"
  },
  "language_info": {
   "codemirror_mode": {
    "name": "ipython",
    "version": 3
   },
   "file_extension": ".py",
   "mimetype": "text/x-python",
   "name": "python",
   "nbconvert_exporter": "python",
   "pygments_lexer": "ipython3",
   "version": "3.5.2"
  }
 },
 "nbformat": 4,
 "nbformat_minor": 1
}
