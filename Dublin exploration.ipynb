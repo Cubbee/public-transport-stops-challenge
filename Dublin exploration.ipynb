{
 "cells": [
  {
   "cell_type": "code",
   "execution_count": 17,
   "metadata": {
    "collapsed": true
   },
   "outputs": [],
   "source": [
    "import pandas as pd\n",
    "import datetime"
   ]
  },
  {
   "cell_type": "code",
   "execution_count": 26,
   "metadata": {
    "collapsed": true
   },
   "outputs": [],
   "source": [
    "def parse_timestamp(time_in_secs):    \n",
    "    return datetime.datetime.fromtimestamp(int(time_in_secs) / 1e6)"
   ]
  },
  {
   "cell_type": "code",
   "execution_count": 38,
   "metadata": {
    "collapsed": false
   },
   "outputs": [],
   "source": [
    "# Columns description\n",
    "# Timestamp micro since 1970 01 01 00:00:00 GMT'\n",
    "# Line ID\n",
    "# Direction\n",
    "# Journey Pattern ID\n",
    "# Time Frame (The start date of the production time table - in Dublin the production time table starts at 6am and ends at 3am)\n",
    "# Vehicle Journey ID (A given run on the journey pattern)\n",
    "# Operator (Bus operator, not the driver)\n",
    "# Congestion [0=no,1=yes]\n",
    "# Lon WGS84\n",
    "# Lat WGS84\n",
    "# Delay (seconds, negative if bus is ahead of schedule)\n",
    "# Block ID (a section ID of the journey pattern)\n",
    "# Vehicle ID\n",
    "# Stop ID\n",
    "# At Stop [0=no,1=yes]\n",
    "\n",
    "categorical_columns = ['Line ID', 'Direction', 'Journey Pattern ID', 'Vehicle Journey ID', 'Operator', 'Congestion', 'Block ID', 'Vehicle ID', 'Stop ID', 'At Stop']\n",
    "df = pd.read_csv('sir140113-200113/siri.20130114.csv.gz',\n",
    "                 names=['Timestamp', 'Line ID', 'Direction', 'Journey Pattern ID', 'Time Frame', 'Vehicle Journey ID', 'Operator', 'Congestion', 'Lon', 'Lat', 'Delay', 'Block ID', 'Vehicle ID', 'Stop ID', 'At Stop'],\n",
    "                 parse_dates=[0], date_parser=parse_timestamp,\n",
    "                 dtype={col_name: 'category' for col_name in categorical_columns})"
   ]
  },
  {
   "cell_type": "code",
   "execution_count": 39,
   "metadata": {
    "collapsed": false
   },
   "outputs": [
    {
     "data": {
      "text/plain": [
       "Index(['Timestamp', 'Line ID', 'Direction', 'Journey Pattern ID', 'Time Frame',\n",
       "       'Vehicle Journey ID', 'Operator', 'Congestion', 'Lon', 'Lat', 'Delay',\n",
       "       'Block ID', 'Vehicle ID', 'Stop ID', 'At Stop'],\n",
       "      dtype='object')"
      ]
     },
     "execution_count": 39,
     "metadata": {},
     "output_type": "execute_result"
    }
   ],
   "source": [
    "df.columns"
   ]
  },
  {
   "cell_type": "code",
   "execution_count": 40,
   "metadata": {
    "collapsed": false
   },
   "outputs": [
    {
     "data": {
      "text/plain": [
       "Timestamp             datetime64[ns]\n",
       "Line ID                     category\n",
       "Direction                   category\n",
       "Journey Pattern ID          category\n",
       "Time Frame                    object\n",
       "Vehicle Journey ID          category\n",
       "Operator                    category\n",
       "Congestion                  category\n",
       "Lon                          float64\n",
       "Lat                          float64\n",
       "Delay                          int64\n",
       "Block ID                    category\n",
       "Vehicle ID                  category\n",
       "Stop ID                     category\n",
       "At Stop                     category\n",
       "dtype: object"
      ]
     },
     "execution_count": 40,
     "metadata": {},
     "output_type": "execute_result"
    }
   ],
   "source": [
    "df.dtypes"
   ]
  },
  {
   "cell_type": "code",
   "execution_count": 41,
   "metadata": {
    "collapsed": false
   },
   "outputs": [
    {
     "data": {
      "text/html": [
       "<div>\n",
       "<table border=\"1\" class=\"dataframe\">\n",
       "  <thead>\n",
       "    <tr style=\"text-align: right;\">\n",
       "      <th></th>\n",
       "      <th>Timestamp</th>\n",
       "      <th>Line ID</th>\n",
       "      <th>Direction</th>\n",
       "      <th>Journey Pattern ID</th>\n",
       "      <th>Time Frame</th>\n",
       "      <th>Vehicle Journey ID</th>\n",
       "      <th>Operator</th>\n",
       "      <th>Congestion</th>\n",
       "      <th>Lon</th>\n",
       "      <th>Lat</th>\n",
       "      <th>Delay</th>\n",
       "      <th>Block ID</th>\n",
       "      <th>Vehicle ID</th>\n",
       "      <th>Stop ID</th>\n",
       "      <th>At Stop</th>\n",
       "    </tr>\n",
       "  </thead>\n",
       "  <tbody>\n",
       "    <tr>\n",
       "      <th>0</th>\n",
       "      <td>2013-01-14 04:00:01</td>\n",
       "      <td>66</td>\n",
       "      <td>0</td>\n",
       "      <td>00660001</td>\n",
       "      <td>2013-01-13</td>\n",
       "      <td>14217</td>\n",
       "      <td>PO</td>\n",
       "      <td>0</td>\n",
       "      <td>-6.569710</td>\n",
       "      <td>53.380451</td>\n",
       "      <td>222</td>\n",
       "      <td>66006</td>\n",
       "      <td>40001</td>\n",
       "      <td>3968</td>\n",
       "      <td>0</td>\n",
       "    </tr>\n",
       "    <tr>\n",
       "      <th>1</th>\n",
       "      <td>2013-01-14 04:00:01</td>\n",
       "      <td>40</td>\n",
       "      <td>0</td>\n",
       "      <td>040D0001</td>\n",
       "      <td>2013-01-13</td>\n",
       "      <td>14403</td>\n",
       "      <td>HN</td>\n",
       "      <td>0</td>\n",
       "      <td>-6.373083</td>\n",
       "      <td>53.410049</td>\n",
       "      <td>338</td>\n",
       "      <td>40204</td>\n",
       "      <td>38067</td>\n",
       "      <td>6005</td>\n",
       "      <td>0</td>\n",
       "    </tr>\n",
       "    <tr>\n",
       "      <th>2</th>\n",
       "      <td>2013-01-14 04:00:01</td>\n",
       "      <td>27</td>\n",
       "      <td>0</td>\n",
       "      <td>077A1001</td>\n",
       "      <td>2013-01-13</td>\n",
       "      <td>14130</td>\n",
       "      <td>RD</td>\n",
       "      <td>0</td>\n",
       "      <td>-6.259118</td>\n",
       "      <td>53.345650</td>\n",
       "      <td>-534</td>\n",
       "      <td>27009</td>\n",
       "      <td>33254</td>\n",
       "      <td>1358</td>\n",
       "      <td>0</td>\n",
       "    </tr>\n",
       "    <tr>\n",
       "      <th>3</th>\n",
       "      <td>2013-01-14 04:00:01</td>\n",
       "      <td>39</td>\n",
       "      <td>0</td>\n",
       "      <td>039A0001</td>\n",
       "      <td>2013-01-13</td>\n",
       "      <td>14729</td>\n",
       "      <td>PO</td>\n",
       "      <td>0</td>\n",
       "      <td>-6.274983</td>\n",
       "      <td>53.350784</td>\n",
       "      <td>-125</td>\n",
       "      <td>39015</td>\n",
       "      <td>33557</td>\n",
       "      <td>7160</td>\n",
       "      <td>0</td>\n",
       "    </tr>\n",
       "    <tr>\n",
       "      <th>4</th>\n",
       "      <td>2013-01-14 04:00:01</td>\n",
       "      <td>46</td>\n",
       "      <td>0</td>\n",
       "      <td>046A0001</td>\n",
       "      <td>2013-01-13</td>\n",
       "      <td>16565</td>\n",
       "      <td>D1</td>\n",
       "      <td>0</td>\n",
       "      <td>-6.230600</td>\n",
       "      <td>53.317665</td>\n",
       "      <td>-988</td>\n",
       "      <td>46007</td>\n",
       "      <td>33532</td>\n",
       "      <td>2032</td>\n",
       "      <td>0</td>\n",
       "    </tr>\n",
       "  </tbody>\n",
       "</table>\n",
       "</div>"
      ],
      "text/plain": [
       "            Timestamp Line ID Direction Journey Pattern ID  Time Frame  \\\n",
       "0 2013-01-14 04:00:01      66         0           00660001  2013-01-13   \n",
       "1 2013-01-14 04:00:01      40         0           040D0001  2013-01-13   \n",
       "2 2013-01-14 04:00:01      27         0           077A1001  2013-01-13   \n",
       "3 2013-01-14 04:00:01      39         0           039A0001  2013-01-13   \n",
       "4 2013-01-14 04:00:01      46         0           046A0001  2013-01-13   \n",
       "\n",
       "  Vehicle Journey ID Operator Congestion       Lon        Lat  Delay Block ID  \\\n",
       "0              14217       PO          0 -6.569710  53.380451    222    66006   \n",
       "1              14403       HN          0 -6.373083  53.410049    338    40204   \n",
       "2              14130       RD          0 -6.259118  53.345650   -534    27009   \n",
       "3              14729       PO          0 -6.274983  53.350784   -125    39015   \n",
       "4              16565       D1          0 -6.230600  53.317665   -988    46007   \n",
       "\n",
       "  Vehicle ID Stop ID At Stop  \n",
       "0      40001    3968       0  \n",
       "1      38067    6005       0  \n",
       "2      33254    1358       0  \n",
       "3      33557    7160       0  \n",
       "4      33532    2032       0  "
      ]
     },
     "execution_count": 41,
     "metadata": {},
     "output_type": "execute_result"
    }
   ],
   "source": [
    "df.head()"
   ]
  },
  {
   "cell_type": "code",
   "execution_count": 42,
   "metadata": {
    "collapsed": false
   },
   "outputs": [
    {
     "data": {
      "text/html": [
       "<div>\n",
       "<table border=\"1\" class=\"dataframe\">\n",
       "  <thead>\n",
       "    <tr style=\"text-align: right;\">\n",
       "      <th></th>\n",
       "      <th>Lon</th>\n",
       "      <th>Lat</th>\n",
       "      <th>Delay</th>\n",
       "    </tr>\n",
       "  </thead>\n",
       "  <tbody>\n",
       "    <tr>\n",
       "      <th>count</th>\n",
       "      <td>1.725539e+06</td>\n",
       "      <td>1.725539e+06</td>\n",
       "      <td>1.725539e+06</td>\n",
       "    </tr>\n",
       "    <tr>\n",
       "      <th>mean</th>\n",
       "      <td>-6.271743e+00</td>\n",
       "      <td>5.334475e+01</td>\n",
       "      <td>-7.030397e+01</td>\n",
       "    </tr>\n",
       "    <tr>\n",
       "      <th>std</th>\n",
       "      <td>8.367796e-02</td>\n",
       "      <td>5.517641e-02</td>\n",
       "      <td>4.611429e+02</td>\n",
       "    </tr>\n",
       "    <tr>\n",
       "      <th>min</th>\n",
       "      <td>-6.615016e+00</td>\n",
       "      <td>5.307040e+01</td>\n",
       "      <td>-4.698000e+03</td>\n",
       "    </tr>\n",
       "    <tr>\n",
       "      <th>25%</th>\n",
       "      <td>-6.307931e+00</td>\n",
       "      <td>5.331962e+01</td>\n",
       "      <td>-2.580000e+02</td>\n",
       "    </tr>\n",
       "    <tr>\n",
       "      <th>50%</th>\n",
       "      <td>-6.261075e+00</td>\n",
       "      <td>5.334644e+01</td>\n",
       "      <td>0.000000e+00</td>\n",
       "    </tr>\n",
       "    <tr>\n",
       "      <th>75%</th>\n",
       "      <td>-6.231783e+00</td>\n",
       "      <td>5.337473e+01</td>\n",
       "      <td>6.100000e+01</td>\n",
       "    </tr>\n",
       "    <tr>\n",
       "      <th>max</th>\n",
       "      <td>-6.053017e+00</td>\n",
       "      <td>5.360652e+01</td>\n",
       "      <td>3.136200e+04</td>\n",
       "    </tr>\n",
       "  </tbody>\n",
       "</table>\n",
       "</div>"
      ],
      "text/plain": [
       "                Lon           Lat         Delay\n",
       "count  1.725539e+06  1.725539e+06  1.725539e+06\n",
       "mean  -6.271743e+00  5.334475e+01 -7.030397e+01\n",
       "std    8.367796e-02  5.517641e-02  4.611429e+02\n",
       "min   -6.615016e+00  5.307040e+01 -4.698000e+03\n",
       "25%   -6.307931e+00  5.331962e+01 -2.580000e+02\n",
       "50%   -6.261075e+00  5.334644e+01  0.000000e+00\n",
       "75%   -6.231783e+00  5.337473e+01  6.100000e+01\n",
       "max   -6.053017e+00  5.360652e+01  3.136200e+04"
      ]
     },
     "execution_count": 42,
     "metadata": {},
     "output_type": "execute_result"
    }
   ],
   "source": [
    "df.describe()"
   ]
  }
 ],
 "metadata": {
  "kernelspec": {
   "display_name": "Python 3",
   "language": "python",
   "name": "python3"
  },
  "language_info": {
   "codemirror_mode": {
    "name": "ipython",
    "version": 3
   },
   "file_extension": ".py",
   "mimetype": "text/x-python",
   "name": "python",
   "nbconvert_exporter": "python",
   "pygments_lexer": "ipython3",
   "version": "3.5.2"
  }
 },
 "nbformat": 4,
 "nbformat_minor": 1
}
