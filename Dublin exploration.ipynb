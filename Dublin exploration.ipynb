{
 "cells": [
  {
   "cell_type": "code",
   "execution_count": 116,
   "metadata": {
    "collapsed": true
   },
   "outputs": [],
   "source": [
    "import pandas as pd\n",
    "import datetime\n",
    "from math import radians, cos, sin, asin, sqrt\n",
    "import numpy as np"
   ]
  },
  {
   "cell_type": "code",
   "execution_count": 164,
   "metadata": {
    "collapsed": true
   },
   "outputs": [],
   "source": [
    "def parse_timestamp(time_in_secs):    \n",
    "    return datetime.datetime.fromtimestamp(int(time_in_secs) / 1e6)\n",
    "\n",
    "def df_dist(row):\n",
    "    return haversine(row['Lon'], row['Lat'], row['Lon_prev'], row['Lat_prev'])\n",
    "\n",
    "def df_speed(row):\n",
    "    if not row['Time deltas'].total_seconds():\n",
    "        return 0\n",
    "    m_s = row['Traveled dist'] * 1000 / row['Time deltas'].total_seconds()\n",
    "    km_h = m_s * 3.6\n",
    "    return km_h\n",
    "\n",
    "def haversine(lon1, lat1, lon2, lat2):\n",
    "    \"\"\"\n",
    "    Calculate the great circle distance between two points \n",
    "    on the earth (specified in decimal degrees)\n",
    "    \"\"\"\n",
    "    # convert decimal degrees to radians \n",
    "    lon1, lat1, lon2, lat2 = map(radians, [lon1, lat1, lon2, lat2])\n",
    "\n",
    "    # haversine formula \n",
    "    dlon = lon2 - lon1 \n",
    "    dlat = lat2 - lat1 \n",
    "    a = sin(dlat/2)**2 + cos(lat1) * cos(lat2) * sin(dlon/2)**2\n",
    "    c = 2 * asin(sqrt(a)) \n",
    "    r = 6371 # Radius of earth in kilometers. Use 3956 for miles\n",
    "    return c * r"
   ]
  },
  {
   "cell_type": "code",
   "execution_count": 102,
   "metadata": {
    "collapsed": false
   },
   "outputs": [],
   "source": [
    "# Columns description\n",
    "# Timestamp micro since 1970 01 01 00:00:00 GMT'\n",
    "# Line ID\n",
    "# Direction\n",
    "# Journey Pattern ID\n",
    "# Time Frame (The start date of the production time table - in Dublin the production time table starts at 6am and ends at 3am)\n",
    "# Vehicle Journey ID (A given run on the journey pattern)\n",
    "# Operator (Bus operator, not the driver)\n",
    "# Congestion [0=no,1=yes]\n",
    "# Lon WGS84\n",
    "# Lat WGS84\n",
    "# Delay (seconds, negative if bus is ahead of schedule)\n",
    "# Block ID (a section ID of the journey pattern)\n",
    "# Vehicle ID\n",
    "# Stop ID\n",
    "# At Stop [0=no,1=yes]\n",
    "\n",
    "categorical_columns = ['Line ID', 'Direction', 'Journey Pattern ID', 'Vehicle Journey ID', 'Operator', 'Congestion', 'Block ID', 'Vehicle ID', 'Stop ID', 'At Stop']\n",
    "df = pd.read_csv('sir140113-200113/siri.20130114.csv.gz',\n",
    "                 names=['Timestamp', 'Line ID', 'Direction', 'Journey Pattern ID', 'Time Frame', 'Vehicle Journey ID', 'Operator', 'Congestion', 'Lon', 'Lat', 'Delay', 'Block ID', 'Vehicle ID', 'Stop ID', 'At Stop'],\n",
    "                 parse_dates=[0], date_parser=parse_timestamp,\n",
    "                 dtype={col_name: 'category' for col_name in categorical_columns})"
   ]
  },
  {
   "cell_type": "code",
   "execution_count": 103,
   "metadata": {
    "collapsed": false
   },
   "outputs": [
    {
     "data": {
      "text/plain": [
       "Index(['Timestamp', 'Line ID', 'Direction', 'Journey Pattern ID', 'Time Frame',\n",
       "       'Vehicle Journey ID', 'Operator', 'Congestion', 'Lon', 'Lat', 'Delay',\n",
       "       'Block ID', 'Vehicle ID', 'Stop ID', 'At Stop'],\n",
       "      dtype='object')"
      ]
     },
     "execution_count": 103,
     "metadata": {},
     "output_type": "execute_result"
    }
   ],
   "source": [
    "df.columns"
   ]
  },
  {
   "cell_type": "code",
   "execution_count": 104,
   "metadata": {
    "collapsed": false
   },
   "outputs": [
    {
     "data": {
      "text/plain": [
       "Timestamp             datetime64[ns]\n",
       "Line ID                     category\n",
       "Direction                   category\n",
       "Journey Pattern ID          category\n",
       "Time Frame                    object\n",
       "Vehicle Journey ID          category\n",
       "Operator                    category\n",
       "Congestion                  category\n",
       "Lon                          float64\n",
       "Lat                          float64\n",
       "Delay                          int64\n",
       "Block ID                    category\n",
       "Vehicle ID                  category\n",
       "Stop ID                     category\n",
       "At Stop                     category\n",
       "dtype: object"
      ]
     },
     "execution_count": 104,
     "metadata": {},
     "output_type": "execute_result"
    }
   ],
   "source": [
    "df.dtypes"
   ]
  },
  {
   "cell_type": "code",
   "execution_count": 140,
   "metadata": {
    "collapsed": false
   },
   "outputs": [
    {
     "name": "stdout",
     "output_type": "stream",
     "text": [
      "Line ID\n",
      "[66, 40, 27, 39, 46, ..., 104, 53, 51, 118, NaN]\n",
      "Length: 66\n",
      "Categories (65, object): [66, 40, 27, 39, ..., 104, 53, 51, 118]\n",
      "-----\n",
      "Direction\n",
      "[0]\n",
      "Categories (1, object): [0]\n",
      "-----\n",
      "Journey Pattern ID\n",
      "[00660001, 040D0001, 077A1001, 039A0001, 046A0001, ..., 00111002, 00371002, 014C0001, 01851008, 00331005]\n",
      "Length: 444\n",
      "Categories (443, object): [00660001, 040D0001, 077A1001, 039A0001, ..., 00371002, 014C0001, 01851008, 00331005]\n",
      "-----\n",
      "Vehicle Journey ID\n",
      "[14217, 14403, 14130, 14729, 16565, ..., 5924, 7291, 6674, 4288, 5340]\n",
      "Length: 7503\n",
      "Categories (7503, object): [14217, 14403, 14130, 14729, ..., 7291, 6674, 4288, 5340]\n",
      "-----\n",
      "Operator\n",
      "[PO, HN, RD, D1, CF, SL, CD, D2]\n",
      "Categories (8, object): [PO, HN, RD, D1, CF, SL, CD, D2]\n",
      "-----\n",
      "Congestion\n",
      "[0, 1]\n",
      "Categories (2, object): [0, 1]\n",
      "-----\n",
      "Block ID\n",
      "[66006, 40204, 27009, 39015, 46007, ..., 9012, 145001, 46030, 83015, 145070]\n",
      "Length: 868\n",
      "Categories (868, object): [66006, 40204, 27009, 39015, ..., 145001, 46030, 83015, 145070]\n",
      "-----\n",
      "Vehicle ID\n",
      "[40001, 38067, 33254, 33557, 33532, ..., 33282, 33534, 33204, 33195, 43029]\n",
      "Length: 821\n",
      "Categories (821, object): [40001, 38067, 33254, 33557, ..., 33534, 33204, 33195, 43029]\n",
      "-----\n",
      "Stop ID\n",
      "[3968, 6005, 1358, 7160, 2032, ..., 5126, 7465, 4833, 2458, 7497]\n",
      "Length: 4694\n",
      "Categories (4694, object): [3968, 6005, 1358, 7160, ..., 7465, 4833, 2458, 7497]\n",
      "-----\n",
      "At Stop\n",
      "[0, 1]\n",
      "Categories (2, object): [0, 1]\n",
      "-----\n"
     ]
    }
   ],
   "source": [
    "for c in categorical_columns:\n",
    "    print(c)\n",
    "    print(df[c].unique())\n",
    "    print('-----')"
   ]
  },
  {
   "cell_type": "code",
   "execution_count": 105,
   "metadata": {
    "collapsed": false
   },
   "outputs": [
    {
     "data": {
      "text/html": [
       "<div>\n",
       "<table border=\"1\" class=\"dataframe\">\n",
       "  <thead>\n",
       "    <tr style=\"text-align: right;\">\n",
       "      <th></th>\n",
       "      <th>Timestamp</th>\n",
       "      <th>Line ID</th>\n",
       "      <th>Direction</th>\n",
       "      <th>Journey Pattern ID</th>\n",
       "      <th>Time Frame</th>\n",
       "      <th>Vehicle Journey ID</th>\n",
       "      <th>Operator</th>\n",
       "      <th>Congestion</th>\n",
       "      <th>Lon</th>\n",
       "      <th>Lat</th>\n",
       "      <th>Delay</th>\n",
       "      <th>Block ID</th>\n",
       "      <th>Vehicle ID</th>\n",
       "      <th>Stop ID</th>\n",
       "      <th>At Stop</th>\n",
       "    </tr>\n",
       "  </thead>\n",
       "  <tbody>\n",
       "    <tr>\n",
       "      <th>0</th>\n",
       "      <td>2013-01-14 04:00:01</td>\n",
       "      <td>66</td>\n",
       "      <td>0</td>\n",
       "      <td>00660001</td>\n",
       "      <td>2013-01-13</td>\n",
       "      <td>14217</td>\n",
       "      <td>PO</td>\n",
       "      <td>0</td>\n",
       "      <td>-6.569710</td>\n",
       "      <td>53.380451</td>\n",
       "      <td>222</td>\n",
       "      <td>66006</td>\n",
       "      <td>40001</td>\n",
       "      <td>3968</td>\n",
       "      <td>0</td>\n",
       "    </tr>\n",
       "    <tr>\n",
       "      <th>1</th>\n",
       "      <td>2013-01-14 04:00:01</td>\n",
       "      <td>40</td>\n",
       "      <td>0</td>\n",
       "      <td>040D0001</td>\n",
       "      <td>2013-01-13</td>\n",
       "      <td>14403</td>\n",
       "      <td>HN</td>\n",
       "      <td>0</td>\n",
       "      <td>-6.373083</td>\n",
       "      <td>53.410049</td>\n",
       "      <td>338</td>\n",
       "      <td>40204</td>\n",
       "      <td>38067</td>\n",
       "      <td>6005</td>\n",
       "      <td>0</td>\n",
       "    </tr>\n",
       "    <tr>\n",
       "      <th>2</th>\n",
       "      <td>2013-01-14 04:00:01</td>\n",
       "      <td>27</td>\n",
       "      <td>0</td>\n",
       "      <td>077A1001</td>\n",
       "      <td>2013-01-13</td>\n",
       "      <td>14130</td>\n",
       "      <td>RD</td>\n",
       "      <td>0</td>\n",
       "      <td>-6.259118</td>\n",
       "      <td>53.345650</td>\n",
       "      <td>-534</td>\n",
       "      <td>27009</td>\n",
       "      <td>33254</td>\n",
       "      <td>1358</td>\n",
       "      <td>0</td>\n",
       "    </tr>\n",
       "    <tr>\n",
       "      <th>3</th>\n",
       "      <td>2013-01-14 04:00:01</td>\n",
       "      <td>39</td>\n",
       "      <td>0</td>\n",
       "      <td>039A0001</td>\n",
       "      <td>2013-01-13</td>\n",
       "      <td>14729</td>\n",
       "      <td>PO</td>\n",
       "      <td>0</td>\n",
       "      <td>-6.274983</td>\n",
       "      <td>53.350784</td>\n",
       "      <td>-125</td>\n",
       "      <td>39015</td>\n",
       "      <td>33557</td>\n",
       "      <td>7160</td>\n",
       "      <td>0</td>\n",
       "    </tr>\n",
       "    <tr>\n",
       "      <th>4</th>\n",
       "      <td>2013-01-14 04:00:01</td>\n",
       "      <td>46</td>\n",
       "      <td>0</td>\n",
       "      <td>046A0001</td>\n",
       "      <td>2013-01-13</td>\n",
       "      <td>16565</td>\n",
       "      <td>D1</td>\n",
       "      <td>0</td>\n",
       "      <td>-6.230600</td>\n",
       "      <td>53.317665</td>\n",
       "      <td>-988</td>\n",
       "      <td>46007</td>\n",
       "      <td>33532</td>\n",
       "      <td>2032</td>\n",
       "      <td>0</td>\n",
       "    </tr>\n",
       "  </tbody>\n",
       "</table>\n",
       "</div>"
      ],
      "text/plain": [
       "            Timestamp Line ID Direction Journey Pattern ID  Time Frame  \\\n",
       "0 2013-01-14 04:00:01      66         0           00660001  2013-01-13   \n",
       "1 2013-01-14 04:00:01      40         0           040D0001  2013-01-13   \n",
       "2 2013-01-14 04:00:01      27         0           077A1001  2013-01-13   \n",
       "3 2013-01-14 04:00:01      39         0           039A0001  2013-01-13   \n",
       "4 2013-01-14 04:00:01      46         0           046A0001  2013-01-13   \n",
       "\n",
       "  Vehicle Journey ID Operator Congestion       Lon        Lat  Delay Block ID  \\\n",
       "0              14217       PO          0 -6.569710  53.380451    222    66006   \n",
       "1              14403       HN          0 -6.373083  53.410049    338    40204   \n",
       "2              14130       RD          0 -6.259118  53.345650   -534    27009   \n",
       "3              14729       PO          0 -6.274983  53.350784   -125    39015   \n",
       "4              16565       D1          0 -6.230600  53.317665   -988    46007   \n",
       "\n",
       "  Vehicle ID Stop ID At Stop  \n",
       "0      40001    3968       0  \n",
       "1      38067    6005       0  \n",
       "2      33254    1358       0  \n",
       "3      33557    7160       0  \n",
       "4      33532    2032       0  "
      ]
     },
     "execution_count": 105,
     "metadata": {},
     "output_type": "execute_result"
    }
   ],
   "source": [
    "df.head()"
   ]
  },
  {
   "cell_type": "code",
   "execution_count": 106,
   "metadata": {
    "collapsed": false
   },
   "outputs": [
    {
     "data": {
      "text/html": [
       "<div>\n",
       "<table border=\"1\" class=\"dataframe\">\n",
       "  <thead>\n",
       "    <tr style=\"text-align: right;\">\n",
       "      <th></th>\n",
       "      <th>Lon</th>\n",
       "      <th>Lat</th>\n",
       "      <th>Delay</th>\n",
       "    </tr>\n",
       "  </thead>\n",
       "  <tbody>\n",
       "    <tr>\n",
       "      <th>count</th>\n",
       "      <td>1.725539e+06</td>\n",
       "      <td>1.725539e+06</td>\n",
       "      <td>1.725539e+06</td>\n",
       "    </tr>\n",
       "    <tr>\n",
       "      <th>mean</th>\n",
       "      <td>-6.271743e+00</td>\n",
       "      <td>5.334475e+01</td>\n",
       "      <td>-7.030397e+01</td>\n",
       "    </tr>\n",
       "    <tr>\n",
       "      <th>std</th>\n",
       "      <td>8.367796e-02</td>\n",
       "      <td>5.517641e-02</td>\n",
       "      <td>4.611429e+02</td>\n",
       "    </tr>\n",
       "    <tr>\n",
       "      <th>min</th>\n",
       "      <td>-6.615016e+00</td>\n",
       "      <td>5.307040e+01</td>\n",
       "      <td>-4.698000e+03</td>\n",
       "    </tr>\n",
       "    <tr>\n",
       "      <th>25%</th>\n",
       "      <td>-6.307931e+00</td>\n",
       "      <td>5.331962e+01</td>\n",
       "      <td>-2.580000e+02</td>\n",
       "    </tr>\n",
       "    <tr>\n",
       "      <th>50%</th>\n",
       "      <td>-6.261075e+00</td>\n",
       "      <td>5.334644e+01</td>\n",
       "      <td>0.000000e+00</td>\n",
       "    </tr>\n",
       "    <tr>\n",
       "      <th>75%</th>\n",
       "      <td>-6.231783e+00</td>\n",
       "      <td>5.337473e+01</td>\n",
       "      <td>6.100000e+01</td>\n",
       "    </tr>\n",
       "    <tr>\n",
       "      <th>max</th>\n",
       "      <td>-6.053017e+00</td>\n",
       "      <td>5.360652e+01</td>\n",
       "      <td>3.136200e+04</td>\n",
       "    </tr>\n",
       "  </tbody>\n",
       "</table>\n",
       "</div>"
      ],
      "text/plain": [
       "                Lon           Lat         Delay\n",
       "count  1.725539e+06  1.725539e+06  1.725539e+06\n",
       "mean  -6.271743e+00  5.334475e+01 -7.030397e+01\n",
       "std    8.367796e-02  5.517641e-02  4.611429e+02\n",
       "min   -6.615016e+00  5.307040e+01 -4.698000e+03\n",
       "25%   -6.307931e+00  5.331962e+01 -2.580000e+02\n",
       "50%   -6.261075e+00  5.334644e+01  0.000000e+00\n",
       "75%   -6.231783e+00  5.337473e+01  6.100000e+01\n",
       "max   -6.053017e+00  5.360652e+01  3.136200e+04"
      ]
     },
     "execution_count": 106,
     "metadata": {},
     "output_type": "execute_result"
    }
   ],
   "source": [
    "df.describe()"
   ]
  },
  {
   "cell_type": "code",
   "execution_count": 107,
   "metadata": {
    "collapsed": true
   },
   "outputs": [],
   "source": [
    "# Ugly way to make coordinates start at 0. http://spatialreference.org/ref/epsg/wgs-84/\n",
    "df['Lat'] += 180\n",
    "df['Lon'] += 90"
   ]
  },
  {
   "cell_type": "code",
   "execution_count": 108,
   "metadata": {
    "collapsed": false
   },
   "outputs": [
    {
     "data": {
      "text/html": [
       "<div>\n",
       "<table border=\"1\" class=\"dataframe\">\n",
       "  <thead>\n",
       "    <tr style=\"text-align: right;\">\n",
       "      <th></th>\n",
       "      <th>Lon</th>\n",
       "      <th>Lat</th>\n",
       "      <th>Delay</th>\n",
       "    </tr>\n",
       "  </thead>\n",
       "  <tbody>\n",
       "    <tr>\n",
       "      <th>count</th>\n",
       "      <td>1.725539e+06</td>\n",
       "      <td>1.725539e+06</td>\n",
       "      <td>1.725539e+06</td>\n",
       "    </tr>\n",
       "    <tr>\n",
       "      <th>mean</th>\n",
       "      <td>8.372826e+01</td>\n",
       "      <td>2.333448e+02</td>\n",
       "      <td>-7.030397e+01</td>\n",
       "    </tr>\n",
       "    <tr>\n",
       "      <th>std</th>\n",
       "      <td>8.367796e-02</td>\n",
       "      <td>5.517641e-02</td>\n",
       "      <td>4.611429e+02</td>\n",
       "    </tr>\n",
       "    <tr>\n",
       "      <th>min</th>\n",
       "      <td>8.338498e+01</td>\n",
       "      <td>2.330704e+02</td>\n",
       "      <td>-4.698000e+03</td>\n",
       "    </tr>\n",
       "    <tr>\n",
       "      <th>25%</th>\n",
       "      <td>8.369207e+01</td>\n",
       "      <td>2.333196e+02</td>\n",
       "      <td>-2.580000e+02</td>\n",
       "    </tr>\n",
       "    <tr>\n",
       "      <th>50%</th>\n",
       "      <td>8.373892e+01</td>\n",
       "      <td>2.333464e+02</td>\n",
       "      <td>0.000000e+00</td>\n",
       "    </tr>\n",
       "    <tr>\n",
       "      <th>75%</th>\n",
       "      <td>8.376822e+01</td>\n",
       "      <td>2.333747e+02</td>\n",
       "      <td>6.100000e+01</td>\n",
       "    </tr>\n",
       "    <tr>\n",
       "      <th>max</th>\n",
       "      <td>8.394698e+01</td>\n",
       "      <td>2.336065e+02</td>\n",
       "      <td>3.136200e+04</td>\n",
       "    </tr>\n",
       "  </tbody>\n",
       "</table>\n",
       "</div>"
      ],
      "text/plain": [
       "                Lon           Lat         Delay\n",
       "count  1.725539e+06  1.725539e+06  1.725539e+06\n",
       "mean   8.372826e+01  2.333448e+02 -7.030397e+01\n",
       "std    8.367796e-02  5.517641e-02  4.611429e+02\n",
       "min    8.338498e+01  2.330704e+02 -4.698000e+03\n",
       "25%    8.369207e+01  2.333196e+02 -2.580000e+02\n",
       "50%    8.373892e+01  2.333464e+02  0.000000e+00\n",
       "75%    8.376822e+01  2.333747e+02  6.100000e+01\n",
       "max    8.394698e+01  2.336065e+02  3.136200e+04"
      ]
     },
     "execution_count": 108,
     "metadata": {},
     "output_type": "execute_result"
    }
   ],
   "source": [
    "df.describe()"
   ]
  },
  {
   "cell_type": "code",
   "execution_count": 109,
   "metadata": {
    "collapsed": false
   },
   "outputs": [],
   "source": [
    "lat_min = df['Lat'].min()\n",
    "lat_range = df['Lat'].max() - lat_min\n",
    "lon_min = df['Lon'].min()\n",
    "lon_range = df['Lon'].max() - lon_min"
   ]
  },
  {
   "cell_type": "code",
   "execution_count": 112,
   "metadata": {
    "collapsed": false
   },
   "outputs": [
    {
     "name": "stdout",
     "output_type": "stream",
     "text": [
      "0.00357412\n",
      "lat step: 0.40km\n",
      "lon step: 0.42km\n"
     ]
    }
   ],
   "source": [
    "# Get coordinate step for given number of cells.\n",
    "num_cells = 150\n",
    "lat_step = lat_range / num_cells\n",
    "lon_step = lon_range / num_cells\n",
    "print(lat_step)\n",
    "print('lat step: {:.2f}km'.format(haversine(0, 0, lat_step, 0)))\n",
    "print('lon step: {:.2f}km'.format(haversine(0, 0, lon_step, 0)))"
   ]
  },
  {
   "cell_type": "code",
   "execution_count": null,
   "metadata": {
    "collapsed": false
   },
   "outputs": [
    {
     "name": "stdout",
     "output_type": "stream",
     "text": [
      "0\n"
     ]
    },
    {
     "name": "stderr",
     "output_type": "stream",
     "text": [
      "/home/sokolov/miniconda3/envs/bus-stops/lib/python3.5/site-packages/numpy/lib/function_base.py:583: RuntimeWarning: invalid value encountered in greater_equal\n",
      "  keep = (tmp_a >= mn)\n",
      "/home/sokolov/miniconda3/envs/bus-stops/lib/python3.5/site-packages/numpy/lib/function_base.py:584: RuntimeWarning: invalid value encountered in less_equal\n",
      "  keep &= (tmp_a <= mx)\n"
     ]
    },
    {
     "name": "stdout",
     "output_type": "stream",
     "text": [
      "1\n",
      "2\n",
      "3\n",
      "4\n",
      "5\n",
      "6\n",
      "7\n",
      "8\n",
      "9\n",
      "10\n",
      "11\n",
      "12\n",
      "13\n",
      "14\n"
     ]
    }
   ],
   "source": [
    "%%time\n",
    "X = []\n",
    "y = []\n",
    "for lat_idx in range(25):\n",
    "    print(lat_idx)\n",
    "    lat_start, lat_stop = lat_min + lat_idx * lat_step, lat_min + (lat_idx + 1) * lat_step\n",
    "    df_lat_slice = df[(lat_start <= df['Lat']) & (df['Lat'] < lat_stop)]\n",
    "    for lon_idx in range(num_cells):\n",
    "        lon_start, lon_stop = lon_min + lon_idx * lon_step, lon_min + (lon_idx + 1) * lon_step\n",
    "        cell_data = df_lat_slice[(lon_start <= df_lat_slice['Lon']) & (df_lat_slice['Lon'] < lon_stop)]\n",
    "        cell_value_counts = cell_data['At Stop'].value_counts()\n",
    "        if True or cell_value_counts[1] > 0:\n",
    "            line_ids = cell_data['Line ID'].unique()\n",
    "            for line_id in line_ids:\n",
    "                line_id_df = cell_data[cell_data['Line ID'] == line_id]\n",
    "                journey_ids = line_id_df['Vehicle Journey ID'].unique()\n",
    "                value_counts = np.zeros(2)\n",
    "                line_hist = None\n",
    "                for journey_id in journey_ids:\n",
    "                    journey_df = line_id_df[line_id_df['Vehicle Journey ID'] == journey_id]\n",
    "                    if len(journey_df) < 2:\n",
    "                        continue\n",
    "                    \n",
    "                    journey_df = journey_df.sort_values('Timestamp')\n",
    "                    journey_df = journey_df.join(journey_df[['Timestamp', 'Lon', 'Lat']].shift(), rsuffix='_prev')\n",
    "                    journey_df['Time deltas'] = journey_df['Timestamp'] - journey_df['Timestamp_prev']\n",
    "                    journey_df['Traveled dist'] = journey_df[['Lon', 'Lat', 'Lon_prev', 'Lat_prev']].apply(df_dist, axis=1)\n",
    "                    journey_df['Speed'] = journey_df.apply(df_speed, axis=1)\n",
    "                                        \n",
    "                    journey_value_counts = journey_df['At Stop'].value_counts(sort=False)\n",
    "                    features = np.histogram(journey_df['Speed'], bins=20, range=(0, 60))[0]\n",
    "                    if line_hist is None:\n",
    "                        line_hist = features\n",
    "                    else:\n",
    "                        line_hist += features\n",
    "                    value_counts += journey_value_counts\n",
    "                if line_hist is not None:\n",
    "                    X.append(line_hist / np.sum(line_hist))\n",
    "                    is_stop = value_counts[1] > value_counts[0]\n",
    "                    y.append(is_stop)"
   ]
  },
  {
   "cell_type": "code",
   "execution_count": 226,
   "metadata": {
    "collapsed": false
   },
   "outputs": [
    {
     "name": "stdout",
     "output_type": "stream",
     "text": [
      "(array([False,  True], dtype=bool), array([21,  5]))\n",
      "Precision: 0.39 (+/- 0.79)\n",
      "Recall: 0.45 (+/- 0.92)\n",
      "F1s: 0.39 (+/- 0.84)\n",
      "Support: 2.60 (+/- 3.25)\n"
     ]
    },
    {
     "name": "stderr",
     "output_type": "stream",
     "text": [
      "/home/sokolov/miniconda3/envs/bus-stops/lib/python3.5/site-packages/sklearn/metrics/classification.py:1113: UndefinedMetricWarning: Precision and F-score are ill-defined and being set to 0.0 in labels with no predicted samples.\n",
      "  'precision', 'predicted', average, warn_for)\n",
      "/home/sokolov/miniconda3/envs/bus-stops/lib/python3.5/site-packages/sklearn/metrics/classification.py:1113: UndefinedMetricWarning: Precision and F-score are ill-defined and being set to 0.0 in labels with no predicted samples.\n",
      "  'precision', 'predicted', average, warn_for)\n",
      "/home/sokolov/miniconda3/envs/bus-stops/lib/python3.5/site-packages/sklearn/metrics/classification.py:1113: UndefinedMetricWarning: Precision and F-score are ill-defined and being set to 0.0 in labels with no predicted samples.\n",
      "  'precision', 'predicted', average, warn_for)\n"
     ]
    }
   ],
   "source": [
    "from sklearn.linear_model import LogisticRegression\n",
    "from sklearn.ensemble import RandomForestClassifier\n",
    "from sklearn.model_selection import StratifiedKFold\n",
    "from sklearn.metrics import precision_recall_fscore_support\n",
    "\n",
    "# print(X)\n",
    "# print(X / np.linalg.norm(X, axis=1).reshape(-1, 1))\n",
    "X = np.array(X)\n",
    "y = np.array(y)\n",
    "print(np.unique(y, return_counts=True))\n",
    "\n",
    "clf = RandomForestClassifier()\n",
    "precs, recs, f1s, sups = [], [], [], []\n",
    "kf = StratifiedKFold(n_splits=5, random_state=42, shuffle=True)\n",
    "for train_idx, val_idx in kf.split(X, y):\n",
    "    X_train, X_val = X[train_idx], X[val_idx]\n",
    "    y_train, y_val = y[train_idx], y[val_idx]\n",
    "    clf.fit(X_train, y_train)\n",
    "    pr, rec, f1, sup = precision_recall_fscore_support(y_val, clf.predict(X_val))\n",
    "    precs.append(pr)\n",
    "    recs.append(rec)\n",
    "    f1s.append(f1)\n",
    "    sups.append(sup)\n",
    "\n",
    "print(\"Precision: %0.2f (+/- %0.2f)\" % (np.mean(precs), np.std(precs) * 2))\n",
    "print(\"Recall: %0.2f (+/- %0.2f)\" % (np.mean(recs), np.std(recs) * 2))\n",
    "print(\"F1s: %0.2f (+/- %0.2f)\" % (np.mean(precs), np.std(f1s) * 2))\n",
    "print(\"Support: %0.2f (+/- %0.2f)\" % (np.mean(sups), np.std(sups) * 2))"
   ]
  }
 ],
 "metadata": {
  "kernelspec": {
   "display_name": "Python 3",
   "language": "python",
   "name": "python3"
  },
  "language_info": {
   "codemirror_mode": {
    "name": "ipython",
    "version": 3
   },
   "file_extension": ".py",
   "mimetype": "text/x-python",
   "name": "python",
   "nbconvert_exporter": "python",
   "pygments_lexer": "ipython3",
   "version": "3.5.2"
  }
 },
 "nbformat": 4,
 "nbformat_minor": 1
}
