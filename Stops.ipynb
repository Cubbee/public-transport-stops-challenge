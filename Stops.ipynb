{
 "cells": [
  {
   "cell_type": "code",
   "execution_count": 1,
   "metadata": {
    "collapsed": true
   },
   "outputs": [],
   "source": [
    "import numpy as np\n",
    "import pandas as pd\n",
    "import matplotlib.pyplot as plt\n",
    "%matplotlib inline"
   ]
  },
  {
   "cell_type": "code",
   "execution_count": 2,
   "metadata": {
    "collapsed": false
   },
   "outputs": [
    {
     "name": "stdout",
     "output_type": "stream",
     "text": [
      "(1064095, 6)\n"
     ]
    }
   ],
   "source": [
    "data_df = pd.read_csv('/home/roman/work/data/stops/data.tsv', sep='\\t', names=['datetime', 'id', 'type', 'route_id', 'lat', 'lon'])\n",
    "\n",
    "print(data_df.shape)"
   ]
  },
  {
   "cell_type": "code",
   "execution_count": 3,
   "metadata": {
    "collapsed": true
   },
   "outputs": [],
   "source": [
    "data_df['datetime'] = pd.to_datetime(data_df['datetime'])\n"
   ]
  },
  {
   "cell_type": "code",
   "execution_count": 4,
   "metadata": {
    "collapsed": false
   },
   "outputs": [
    {
     "data": {
      "text/html": [
       "<div>\n",
       "<table border=\"1\" class=\"dataframe\">\n",
       "  <thead>\n",
       "    <tr style=\"text-align: right;\">\n",
       "      <th></th>\n",
       "      <th>datetime</th>\n",
       "      <th>id</th>\n",
       "      <th>type</th>\n",
       "      <th>route_id</th>\n",
       "      <th>lat</th>\n",
       "      <th>lon</th>\n",
       "    </tr>\n",
       "  </thead>\n",
       "  <tbody>\n",
       "    <tr>\n",
       "      <th>0</th>\n",
       "      <td>2015-05-12 14:24:33</td>\n",
       "      <td>3982</td>\n",
       "      <td>tramway</td>\n",
       "      <td>1</td>\n",
       "      <td>50.700576</td>\n",
       "      <td>51.212909</td>\n",
       "    </tr>\n",
       "    <tr>\n",
       "      <th>1</th>\n",
       "      <td>2015-05-12 14:25:13</td>\n",
       "      <td>3982</td>\n",
       "      <td>tramway</td>\n",
       "      <td>1</td>\n",
       "      <td>50.702068</td>\n",
       "      <td>51.212772</td>\n",
       "    </tr>\n",
       "    <tr>\n",
       "      <th>2</th>\n",
       "      <td>2015-05-12 14:25:53</td>\n",
       "      <td>3982</td>\n",
       "      <td>tramway</td>\n",
       "      <td>1</td>\n",
       "      <td>50.702930</td>\n",
       "      <td>51.212703</td>\n",
       "    </tr>\n",
       "    <tr>\n",
       "      <th>3</th>\n",
       "      <td>2015-05-12 14:26:33</td>\n",
       "      <td>3982</td>\n",
       "      <td>tramway</td>\n",
       "      <td>1</td>\n",
       "      <td>50.705974</td>\n",
       "      <td>51.212421</td>\n",
       "    </tr>\n",
       "    <tr>\n",
       "      <th>4</th>\n",
       "      <td>2015-05-12 14:27:13</td>\n",
       "      <td>3982</td>\n",
       "      <td>tramway</td>\n",
       "      <td>1</td>\n",
       "      <td>50.706775</td>\n",
       "      <td>51.212428</td>\n",
       "    </tr>\n",
       "  </tbody>\n",
       "</table>\n",
       "</div>"
      ],
      "text/plain": [
       "             datetime    id     type  route_id        lat        lon\n",
       "0 2015-05-12 14:24:33  3982  tramway         1  50.700576  51.212909\n",
       "1 2015-05-12 14:25:13  3982  tramway         1  50.702068  51.212772\n",
       "2 2015-05-12 14:25:53  3982  tramway         1  50.702930  51.212703\n",
       "3 2015-05-12 14:26:33  3982  tramway         1  50.705974  51.212421\n",
       "4 2015-05-12 14:27:13  3982  tramway         1  50.706775  51.212428"
      ]
     },
     "execution_count": 4,
     "metadata": {},
     "output_type": "execute_result"
    }
   ],
   "source": [
    "data_df.head()"
   ]
  },
  {
   "cell_type": "code",
   "execution_count": 5,
   "metadata": {
    "collapsed": false
   },
   "outputs": [
    {
     "data": {
      "text/plain": [
       "datetime    1064095\n",
       "id          1064095\n",
       "type        1064095\n",
       "route_id    1064095\n",
       "lat         1064095\n",
       "lon         1064095\n",
       "dtype: int64"
      ]
     },
     "execution_count": 5,
     "metadata": {},
     "output_type": "execute_result"
    }
   ],
   "source": [
    "data_df.count()"
   ]
  },
  {
   "cell_type": "code",
   "execution_count": 6,
   "metadata": {
    "collapsed": false
   },
   "outputs": [
    {
     "data": {
      "text/plain": [
       "datetime    datetime64[ns]\n",
       "id                   int64\n",
       "type                object\n",
       "route_id             int64\n",
       "lat                float64\n",
       "lon                float64\n",
       "dtype: object"
      ]
     },
     "execution_count": 6,
     "metadata": {},
     "output_type": "execute_result"
    }
   ],
   "source": [
    "data_df.dtypes"
   ]
  },
  {
   "cell_type": "code",
   "execution_count": 7,
   "metadata": {
    "collapsed": false
   },
   "outputs": [
    {
     "data": {
      "text/html": [
       "<div>\n",
       "<table border=\"1\" class=\"dataframe\">\n",
       "  <thead>\n",
       "    <tr style=\"text-align: right;\">\n",
       "      <th></th>\n",
       "      <th>count</th>\n",
       "      <th>mean</th>\n",
       "      <th>std</th>\n",
       "      <th>min</th>\n",
       "      <th>25%</th>\n",
       "      <th>50%</th>\n",
       "      <th>75%</th>\n",
       "      <th>max</th>\n",
       "    </tr>\n",
       "  </thead>\n",
       "  <tbody>\n",
       "    <tr>\n",
       "      <th>id</th>\n",
       "      <td>1064095.0</td>\n",
       "      <td>4291.581742</td>\n",
       "      <td>2982.796960</td>\n",
       "      <td>759.000000</td>\n",
       "      <td>1501.000000</td>\n",
       "      <td>3475.000000</td>\n",
       "      <td>7136.000000</td>\n",
       "      <td>10319.000000</td>\n",
       "    </tr>\n",
       "    <tr>\n",
       "      <th>route_id</th>\n",
       "      <td>1064095.0</td>\n",
       "      <td>63.941277</td>\n",
       "      <td>48.076470</td>\n",
       "      <td>1.000000</td>\n",
       "      <td>29.000000</td>\n",
       "      <td>53.000000</td>\n",
       "      <td>89.000000</td>\n",
       "      <td>224.000000</td>\n",
       "    </tr>\n",
       "    <tr>\n",
       "      <th>lat</th>\n",
       "      <td>1064095.0</td>\n",
       "      <td>50.606622</td>\n",
       "      <td>0.084658</td>\n",
       "      <td>50.296417</td>\n",
       "      <td>50.544712</td>\n",
       "      <td>50.611568</td>\n",
       "      <td>50.676059</td>\n",
       "      <td>51.046154</td>\n",
       "    </tr>\n",
       "    <tr>\n",
       "      <th>lon</th>\n",
       "      <td>1064095.0</td>\n",
       "      <td>51.106284</td>\n",
       "      <td>0.143798</td>\n",
       "      <td>50.145202</td>\n",
       "      <td>51.053720</td>\n",
       "      <td>51.128475</td>\n",
       "      <td>51.189899</td>\n",
       "      <td>52.058666</td>\n",
       "    </tr>\n",
       "  </tbody>\n",
       "</table>\n",
       "</div>"
      ],
      "text/plain": [
       "              count         mean          std         min          25%  \\\n",
       "id        1064095.0  4291.581742  2982.796960  759.000000  1501.000000   \n",
       "route_id  1064095.0    63.941277    48.076470    1.000000    29.000000   \n",
       "lat       1064095.0    50.606622     0.084658   50.296417    50.544712   \n",
       "lon       1064095.0    51.106284     0.143798   50.145202    51.053720   \n",
       "\n",
       "                  50%          75%           max  \n",
       "id        3475.000000  7136.000000  10319.000000  \n",
       "route_id    53.000000    89.000000    224.000000  \n",
       "lat         50.611568    50.676059     51.046154  \n",
       "lon         51.128475    51.189899     52.058666  "
      ]
     },
     "execution_count": 7,
     "metadata": {},
     "output_type": "execute_result"
    }
   ],
   "source": [
    "data_df.describe().T"
   ]
  },
  {
   "cell_type": "markdown",
   "metadata": {},
   "source": [
    "отобразим все координаты на плоскость"
   ]
  },
  {
   "cell_type": "code",
   "execution_count": 8,
   "metadata": {
    "collapsed": false
   },
   "outputs": [
    {
     "data": {
      "text/plain": [
       "<matplotlib.collections.PathCollection at 0x7f6bae131048>"
      ]
     },
     "execution_count": 8,
     "metadata": {},
     "output_type": "execute_result"
    },
    {
     "data": {
      "image/png": "[encoded data removed]",
      "text/plain": [
       "<matplotlib.figure.Figure at 0x7f6badf07080>"
      ]
     },
     "metadata": {},
     "output_type": "display_data"
    }
   ],
   "source": [
    "plt.scatter(data_df['lat'],data_df['lon'])"
   ]
  },
  {
   "cell_type": "markdown",
   "metadata": {},
   "source": [
    "Определим есть ли пересечение в маршрутах для различного типа транспорта, вообще логично если есть"
   ]
  },
  {
   "cell_type": "code",
   "execution_count": 9,
   "metadata": {
    "collapsed": false
   },
   "outputs": [
    {
     "data": {
      "text/plain": [
       "array(['tramway', 'bus', 'trolleybus'], dtype=object)"
      ]
     },
     "execution_count": 9,
     "metadata": {},
     "output_type": "execute_result"
    }
   ],
   "source": [
    "data_df['type'].unique()"
   ]
  },
  {
   "cell_type": "code",
   "execution_count": 10,
   "metadata": {
    "collapsed": false
   },
   "outputs": [
    {
     "name": "stdout",
     "output_type": "stream",
     "text": [
      "tramway :  [  1   2   3   5  11  14  15  16  17  18  19  21  22  23  24  25  27  28\n",
      "  29  30  31  32  33  39  41  45  48  49  51  54  70  71  72  75  76  77\n",
      "  78  79 103]\n",
      "bus :  [  3   4   5   6   7   8   9  10  11  12  13  14  15  18  22  23  24  25\n",
      "  26  27  28  30  31  32  34  35  36  37  38  39  40  42  43  45  46  47\n",
      "  48  50  52  53  55  56  57  58  59  60  61  62  63  64  65  66  67  68\n",
      "  69  71  72  73  74  76  77  79  80  81  82  83  84  85  86  87  89  90\n",
      "  91  92  93  94  95  97  98  99 100 102 103 105 106 107 108 109 110 111\n",
      " 112 113 114 115 116 117 118 119 120 121 122 123 124 125 126 127 128 129\n",
      " 130 131 132 133 134 135 137 138 139 140 141 142 143 144 145 146 147 148\n",
      " 149 150 152 153 155 157 158 159 160 161 162 163 164 165 166 167 168 169\n",
      " 170 171 172 173 174 175 176 177 178 179 180 181 182 183 184 185 186 187\n",
      " 188 189 190 191 192 193 194 195 196 197 198 199 200 201 202 203 204 205\n",
      " 206 207 208 209 210 211 212 213 214 215 216 217 218 219 220 221 222 223\n",
      " 224]\n",
      "trolleybus :  [  3   4   5   6  10  11  17  18  19  20  21  22  24  26  27  29  31  32\n",
      "  39  43  44  45  48  51  54  67  70  71  75  76  78  88  96 101 104 118\n",
      " 132 136 151 154 156 157 158]\n"
     ]
    }
   ],
   "source": [
    "print('tramway : ',np.unique(data_df[data_df['type']=='tramway']['route_id']))\n",
    "print('bus : ',np.unique(data_df[data_df['type']=='bus']['route_id']))\n",
    "print('trolleybus : ',np.unique(data_df[data_df['type']=='trolleybus']['route_id']))"
   ]
  },
  {
   "cell_type": "code",
   "execution_count": 8,
   "metadata": {
    "collapsed": false
   },
   "outputs": [
    {
     "name": "stdout",
     "output_type": "stream",
     "text": [
      "count of routes tramway = 39| count of routes bus = 199| count of routes trolleybus = 43\n"
     ]
    }
   ],
   "source": [
    "tram_routes = np.unique(data_df[data_df['type']=='tramway']['route_id'])\n",
    "bus_routes = np.unique(data_df[data_df['type']=='bus']['route_id'])\n",
    "trol_routes = np.unique(data_df[data_df['type']=='trolleybus']['route_id'])\n",
    "\n",
    "print('count of routes tramway = %d| count of routes bus = %d| count of routes trolleybus = %d'%(tram_routes.shape[0],bus_routes.shape[0],trol_routes.shape[0]))"
   ]
  },
  {
   "cell_type": "code",
   "execution_count": 9,
   "metadata": {
    "collapsed": false
   },
   "outputs": [],
   "source": [
    "data_bus = data_df[(data_df['type']=='bus')&(data_df['route_id']==bus_routes[1])]"
   ]
  },
  {
   "cell_type": "code",
   "execution_count": 10,
   "metadata": {
    "collapsed": false
   },
   "outputs": [
    {
     "data": {
      "text/plain": [
       "(19221, 6)"
      ]
     },
     "execution_count": 10,
     "metadata": {},
     "output_type": "execute_result"
    }
   ],
   "source": [
    "data_bus.shape"
   ]
  },
  {
   "cell_type": "code",
   "execution_count": 46,
   "metadata": {
    "collapsed": false
   },
   "outputs": [
    {
     "data": {
      "text/plain": [
       "4"
      ]
     },
     "execution_count": 46,
     "metadata": {},
     "output_type": "execute_result"
    }
   ],
   "source": [
    "bus_routes[1]"
   ]
  },
  {
   "cell_type": "code",
   "execution_count": 11,
   "metadata": {
    "collapsed": false
   },
   "outputs": [
    {
     "data": {
      "text/plain": [
       "array([4002, 1036, 1047, 5597, 5642, 5862, 6027, 6037, 6038, 6398, 6839,\n",
       "       1363, 1448, 6980, 3465, 7048, 7132, 9159,  998,  894,  895])"
      ]
     },
     "execution_count": 11,
     "metadata": {},
     "output_type": "execute_result"
    }
   ],
   "source": [
    "data_bus['id'].unique()"
   ]
  },
  {
   "cell_type": "markdown",
   "metadata": {},
   "source": [
    "наверное популярный маршрут много автобусов ходят"
   ]
  },
  {
   "cell_type": "code",
   "execution_count": 15,
   "metadata": {
    "collapsed": false
   },
   "outputs": [
    {
     "data": {
      "text/plain": [
       "<matplotlib.collections.PathCollection at 0x7f6bae0d99b0>"
      ]
     },
     "execution_count": 15,
     "metadata": {},
     "output_type": "execute_result"
    },
    {
     "data": {
      "image/png": "[encoded data removed]",
      "text/plain": [
       "<matplotlib.figure.Figure at 0x7f6bae108c50>"
      ]
     },
     "metadata": {},
     "output_type": "display_data"
    }
   ],
   "source": [
    "plt.scatter(data_bus['lat'],data_bus['lon'])"
   ]
  },
  {
   "cell_type": "code",
   "execution_count": 12,
   "metadata": {
    "collapsed": false
   },
   "outputs": [],
   "source": [
    "uniq_time = data_df['datetime'].unique()"
   ]
  },
  {
   "cell_type": "code",
   "execution_count": 13,
   "metadata": {
    "collapsed": false
   },
   "outputs": [
    {
     "data": {
      "text/plain": [
       "(4039,)"
      ]
     },
     "execution_count": 13,
     "metadata": {},
     "output_type": "execute_result"
    }
   ],
   "source": [
    "uniq_time.shape"
   ]
  },
  {
   "cell_type": "code",
   "execution_count": 14,
   "metadata": {
    "collapsed": false
   },
   "outputs": [
    {
     "name": "stdout",
     "output_type": "stream",
     "text": [
      "2015-05-12T00:45:20.000000000\n",
      "2015-05-12T23:54:34.000000000\n",
      "83354000000000 nanoseconds\n"
     ]
    }
   ],
   "source": [
    "print(min(uniq_time))\n",
    "print(max(uniq_time))\n",
    "print(max(uniq_time)-min(uniq_time))"
   ]
  },
  {
   "cell_type": "code",
   "execution_count": 15,
   "metadata": {
    "collapsed": true
   },
   "outputs": [],
   "source": [
    "tm = max(uniq_time)-min(uniq_time)"
   ]
  },
  {
   "cell_type": "code",
   "execution_count": 16,
   "metadata": {
    "collapsed": false
   },
   "outputs": [
    {
     "data": {
      "text/plain": [
       "numpy.timedelta64(83354000000000,'ns')"
      ]
     },
     "execution_count": 16,
     "metadata": {},
     "output_type": "execute_result"
    }
   ],
   "source": [
    "np.timedelta64(tm,'ns')"
   ]
  },
  {
   "cell_type": "code",
   "execution_count": 17,
   "metadata": {
    "collapsed": false
   },
   "outputs": [
    {
     "data": {
      "text/plain": [
       "numpy.timedelta64(83354000000000,'ns')"
      ]
     },
     "execution_count": 17,
     "metadata": {},
     "output_type": "execute_result"
    }
   ],
   "source": [
    "tm"
   ]
  },
  {
   "cell_type": "code",
   "execution_count": 47,
   "metadata": {
    "collapsed": false
   },
   "outputs": [
    {
     "data": {
      "text/plain": [
       "numpy.timedelta64(23,'h')"
      ]
     },
     "execution_count": 47,
     "metadata": {},
     "output_type": "execute_result"
    }
   ],
   "source": [
    "np.timedelta64(tm,'h')"
   ]
  },
  {
   "cell_type": "markdown",
   "metadata": {},
   "source": [
    "Практически суточные данные"
   ]
  },
  {
   "cell_type": "code",
   "execution_count": 19,
   "metadata": {
    "collapsed": false
   },
   "outputs": [
    {
     "name": "stdout",
     "output_type": "stream",
     "text": [
      "2015-05-12T14:24:33.000000000\n",
      "2015-05-12T14:25:13.000000000\n"
     ]
    }
   ],
   "source": [
    "print(uniq_time[0])\n",
    "print(uniq_time[1])"
   ]
  },
  {
   "cell_type": "code",
   "execution_count": 20,
   "metadata": {
    "collapsed": false
   },
   "outputs": [
    {
     "data": {
      "text/html": [
       "<div>\n",
       "<table border=\"1\" class=\"dataframe\">\n",
       "  <thead>\n",
       "    <tr style=\"text-align: right;\">\n",
       "      <th></th>\n",
       "      <th>datetime</th>\n",
       "      <th>id</th>\n",
       "      <th>type</th>\n",
       "      <th>route_id</th>\n",
       "      <th>lat</th>\n",
       "      <th>lon</th>\n",
       "    </tr>\n",
       "  </thead>\n",
       "  <tbody>\n",
       "    <tr>\n",
       "      <th>1786</th>\n",
       "      <td>2015-05-12 06:46:15</td>\n",
       "      <td>4002</td>\n",
       "      <td>bus</td>\n",
       "      <td>4</td>\n",
       "      <td>50.603019</td>\n",
       "      <td>51.190580</td>\n",
       "    </tr>\n",
       "    <tr>\n",
       "      <th>1787</th>\n",
       "      <td>2015-05-12 06:49:15</td>\n",
       "      <td>4002</td>\n",
       "      <td>bus</td>\n",
       "      <td>4</td>\n",
       "      <td>50.602962</td>\n",
       "      <td>51.190408</td>\n",
       "    </tr>\n",
       "    <tr>\n",
       "      <th>1788</th>\n",
       "      <td>2015-05-12 07:02:36</td>\n",
       "      <td>4002</td>\n",
       "      <td>bus</td>\n",
       "      <td>4</td>\n",
       "      <td>50.602390</td>\n",
       "      <td>51.188697</td>\n",
       "    </tr>\n",
       "    <tr>\n",
       "      <th>1789</th>\n",
       "      <td>2015-05-12 07:02:56</td>\n",
       "      <td>4002</td>\n",
       "      <td>bus</td>\n",
       "      <td>4</td>\n",
       "      <td>50.602215</td>\n",
       "      <td>51.188171</td>\n",
       "    </tr>\n",
       "    <tr>\n",
       "      <th>1790</th>\n",
       "      <td>2015-05-12 07:03:16</td>\n",
       "      <td>4002</td>\n",
       "      <td>bus</td>\n",
       "      <td>4</td>\n",
       "      <td>50.601902</td>\n",
       "      <td>51.187228</td>\n",
       "    </tr>\n",
       "  </tbody>\n",
       "</table>\n",
       "</div>"
      ],
      "text/plain": [
       "                datetime    id type  route_id        lat        lon\n",
       "1786 2015-05-12 06:46:15  4002  bus         4  50.603019  51.190580\n",
       "1787 2015-05-12 06:49:15  4002  bus         4  50.602962  51.190408\n",
       "1788 2015-05-12 07:02:36  4002  bus         4  50.602390  51.188697\n",
       "1789 2015-05-12 07:02:56  4002  bus         4  50.602215  51.188171\n",
       "1790 2015-05-12 07:03:16  4002  bus         4  50.601902  51.187228"
      ]
     },
     "execution_count": 20,
     "metadata": {},
     "output_type": "execute_result"
    }
   ],
   "source": [
    "data_bus.head()"
   ]
  },
  {
   "cell_type": "code",
   "execution_count": 21,
   "metadata": {
    "collapsed": false
   },
   "outputs": [],
   "source": [
    "bs_uq = data_bus['id'].unique()"
   ]
  },
  {
   "cell_type": "code",
   "execution_count": 22,
   "metadata": {
    "collapsed": true
   },
   "outputs": [],
   "source": [
    "tm_bs1 = data_bus[data_bus['id']==bs_uq[0]]"
   ]
  },
  {
   "cell_type": "code",
   "execution_count": 23,
   "metadata": {
    "collapsed": false
   },
   "outputs": [
    {
     "data": {
      "text/plain": [
       "(1095,)"
      ]
     },
     "execution_count": 23,
     "metadata": {},
     "output_type": "execute_result"
    }
   ],
   "source": [
    "tm_bs1['datetime'].shape"
   ]
  },
  {
   "cell_type": "code",
   "execution_count": 24,
   "metadata": {
    "collapsed": false
   },
   "outputs": [
    {
     "data": {
      "text/plain": [
       "(1095,)"
      ]
     },
     "execution_count": 24,
     "metadata": {},
     "output_type": "execute_result"
    }
   ],
   "source": [
    "tm_bs1['datetime'].unique().shape"
   ]
  },
  {
   "cell_type": "code",
   "execution_count": 25,
   "metadata": {
    "collapsed": false
   },
   "outputs": [],
   "source": [
    "dtm = np.sort(tm_bs1['datetime'])"
   ]
  },
  {
   "cell_type": "code",
   "execution_count": 26,
   "metadata": {
    "collapsed": false
   },
   "outputs": [
    {
     "name": "stdout",
     "output_type": "stream",
     "text": [
      "2015-05-12T06:46:15.000000000\n",
      "2015-05-12T06:49:15.000000000\n"
     ]
    }
   ],
   "source": [
    "print(dtm[0])\n",
    "print(dtm[1])"
   ]
  },
  {
   "cell_type": "code",
   "execution_count": 27,
   "metadata": {
    "collapsed": false
   },
   "outputs": [
    {
     "data": {
      "text/plain": [
       "numpy.timedelta64(20,'s')"
      ]
     },
     "execution_count": 27,
     "metadata": {},
     "output_type": "execute_result"
    }
   ],
   "source": [
    "np.timedelta64(dtm[4]-dtm[3],'s')"
   ]
  },
  {
   "cell_type": "code",
   "execution_count": 38,
   "metadata": {
    "collapsed": false
   },
   "outputs": [
    {
     "name": "stdout",
     "output_type": "stream",
     "text": [
      "80 seconds\n",
      "60 seconds\n",
      "60 seconds\n",
      "60 seconds\n",
      "140 seconds\n",
      "60 seconds\n",
      "60 seconds\n",
      "60 seconds\n",
      "60 seconds\n",
      "60 seconds\n",
      "80 seconds\n",
      "60 seconds\n",
      "60 seconds\n",
      "121 seconds\n",
      "60 seconds\n",
      "140 seconds\n",
      "60 seconds\n",
      "60 seconds\n",
      "60 seconds\n",
      "80 seconds\n",
      "60 seconds\n",
      "60 seconds\n",
      "80 seconds\n",
      "60 seconds\n",
      "80 seconds\n",
      "40 seconds\n",
      "200 seconds\n",
      "60 seconds\n",
      "81 seconds\n",
      "60 seconds\n",
      "60 seconds\n",
      "60 seconds\n",
      "80 seconds\n",
      "60 seconds\n",
      "120 seconds\n",
      "60 seconds\n",
      "60 seconds\n",
      "80 seconds\n",
      "60 seconds\n",
      "60 seconds\n",
      "60 seconds\n",
      "120 seconds\n",
      "901 seconds\n",
      "120 seconds\n",
      "60 seconds\n",
      "80 seconds\n",
      "120 seconds\n",
      "60 seconds\n",
      "181 seconds\n",
      "79 seconds\n",
      "40 seconds\n",
      "61 seconds\n",
      "140 seconds\n",
      "60 seconds\n",
      "60 seconds\n",
      "60 seconds\n",
      "60 seconds\n",
      "120 seconds\n",
      "80 seconds\n",
      "60 seconds\n",
      "80 seconds\n",
      "120 seconds\n",
      "61 seconds\n",
      "60 seconds\n",
      "80 seconds\n",
      "40 seconds\n",
      "320 seconds\n",
      "120 seconds\n",
      "160 seconds\n",
      "60 seconds\n",
      "140 seconds\n",
      "60 seconds\n",
      "60 seconds\n",
      "80 seconds\n",
      "60 seconds\n",
      "60 seconds\n",
      "81 seconds\n",
      "60 seconds\n",
      "60 seconds\n",
      "59 seconds\n",
      "60 seconds\n",
      "81 seconds\n",
      "60 seconds\n",
      "60 seconds\n",
      "80 seconds\n",
      "60 seconds\n",
      "60 seconds\n",
      "60 seconds\n",
      "60 seconds\n",
      "60 seconds\n",
      "60 seconds\n",
      "60 seconds\n",
      "100 seconds\n",
      "60 seconds\n",
      "60 seconds\n",
      "60 seconds\n",
      "121 seconds\n",
      "59 seconds\n",
      "61 seconds\n",
      "59 seconds\n",
      "140 seconds\n",
      "60 seconds\n",
      "61 seconds\n",
      "60 seconds\n",
      "120 seconds\n",
      "60 seconds\n",
      "180 seconds\n",
      "60 seconds\n",
      "180 seconds\n",
      "60 seconds\n",
      "60 seconds\n",
      "140 seconds\n",
      "120 seconds\n",
      "120 seconds\n",
      "181 seconds\n",
      "59 seconds\n",
      "60 seconds\n",
      "61 seconds\n",
      "60 seconds\n",
      "60 seconds\n",
      "80 seconds\n",
      "60 seconds\n",
      "60 seconds\n",
      "60 seconds\n",
      "60 seconds\n",
      "140 seconds\n",
      "60 seconds\n",
      "200 seconds\n",
      "61 seconds\n",
      "119 seconds\n",
      "120 seconds\n",
      "200 seconds\n",
      "80 seconds\n",
      "761 seconds\n",
      "60 seconds\n",
      "63 seconds\n",
      "137 seconds\n",
      "420 seconds\n",
      "821 seconds\n",
      "184 seconds\n",
      "118 seconds\n",
      "62 seconds\n",
      "56 seconds\n",
      "202 seconds\n",
      "58 seconds\n",
      "181 seconds\n",
      "80 seconds\n",
      "60 seconds\n",
      "120 seconds\n",
      "59 seconds\n",
      "60 seconds\n",
      "61 seconds\n",
      "260 seconds\n",
      "60 seconds\n",
      "60 seconds\n",
      "183 seconds\n",
      "77 seconds\n",
      "60 seconds\n",
      "60 seconds\n",
      "60 seconds\n",
      "60 seconds\n",
      "120 seconds\n",
      "80 seconds\n",
      "60 seconds\n",
      "120 seconds\n",
      "120 seconds\n",
      "61 seconds\n",
      "119 seconds\n",
      "60 seconds\n",
      "61 seconds\n",
      "140 seconds\n",
      "60 seconds\n",
      "120 seconds\n",
      "60 seconds\n",
      "60 seconds\n",
      "180 seconds\n",
      "140 seconds\n",
      "120 seconds\n",
      "120 seconds\n",
      "140 seconds\n",
      "121 seconds\n",
      "80 seconds\n",
      "60 seconds\n",
      "120 seconds\n",
      "60 seconds\n",
      "60 seconds\n",
      "60 seconds\n",
      "60 seconds\n",
      "80 seconds\n",
      "60 seconds\n",
      "60 seconds\n",
      "61 seconds\n",
      "59 seconds\n",
      "60 seconds\n",
      "61 seconds\n",
      "80 seconds\n",
      "39 seconds\n",
      "200 seconds\n",
      "200 seconds\n",
      "121 seconds\n",
      "60 seconds\n",
      "140 seconds\n",
      "60 seconds\n",
      "60 seconds\n",
      "60 seconds\n",
      "60 seconds\n",
      "140 seconds\n",
      "80 seconds\n",
      "160 seconds\n",
      "60 seconds\n",
      "120 seconds\n",
      "60 seconds\n",
      "60 seconds\n",
      "120 seconds\n",
      "60 seconds\n",
      "80 seconds\n",
      "61 seconds\n",
      "180 seconds\n",
      "60 seconds\n",
      "120 seconds\n",
      "80 seconds\n",
      "80 seconds\n",
      "60 seconds\n",
      "60 seconds\n",
      "60 seconds\n",
      "121 seconds\n",
      "159 seconds\n",
      "121 seconds\n",
      "59 seconds\n",
      "81 seconds\n",
      "120 seconds\n",
      "59 seconds\n",
      "121 seconds\n",
      "140 seconds\n",
      "60 seconds\n",
      "61 seconds\n",
      "59 seconds\n",
      "60 seconds\n",
      "80 seconds\n",
      "120 seconds\n",
      "60 seconds\n",
      "60 seconds\n",
      "200 seconds\n",
      "241 seconds\n",
      "60 seconds\n",
      "60 seconds\n",
      "60 seconds\n",
      "60 seconds\n",
      "760 seconds\n",
      "6144 seconds\n",
      "181 seconds\n",
      "62 seconds\n",
      "137 seconds\n",
      "60 seconds\n",
      "60 seconds\n",
      "201 seconds\n",
      "60 seconds\n",
      "60 seconds\n",
      "80 seconds\n",
      "60 seconds\n",
      "63 seconds\n",
      "177 seconds\n",
      "60 seconds\n",
      "64 seconds\n",
      "196 seconds\n",
      "120 seconds\n",
      "201 seconds\n",
      "59 seconds\n",
      "61 seconds\n",
      "139 seconds\n",
      "121 seconds\n",
      "60 seconds\n",
      "60 seconds\n",
      "80 seconds\n",
      "120 seconds\n",
      "60 seconds\n",
      "60 seconds\n",
      "139 seconds\n",
      "121 seconds\n",
      "60 seconds\n",
      "120 seconds\n",
      "60 seconds\n",
      "60 seconds\n",
      "60 seconds\n",
      "60 seconds\n",
      "60 seconds\n",
      "80 seconds\n",
      "120 seconds\n",
      "120 seconds\n",
      "60 seconds\n",
      "80 seconds\n",
      "181 seconds\n",
      "60 seconds\n",
      "60 seconds\n",
      "60 seconds\n",
      "200 seconds\n",
      "60 seconds\n",
      "60 seconds\n",
      "220 seconds\n",
      "120 seconds\n",
      "120 seconds\n",
      "80 seconds\n",
      "60 seconds\n",
      "61 seconds\n",
      "59 seconds\n",
      "141 seconds\n",
      "59 seconds\n",
      "121 seconds\n",
      "120 seconds\n",
      "59 seconds\n",
      "221 seconds\n",
      "41 seconds\n",
      "59 seconds\n",
      "120 seconds\n",
      "200 seconds\n",
      "60 seconds\n",
      "80 seconds\n",
      "60 seconds\n",
      "60 seconds\n",
      "61 seconds\n",
      "59 seconds\n",
      "63 seconds\n",
      "57 seconds\n",
      "80 seconds\n",
      "81 seconds\n",
      "102 seconds\n",
      "78 seconds\n",
      "60 seconds\n",
      "60 seconds\n",
      "60 seconds\n",
      "60 seconds\n",
      "141 seconds\n",
      "59 seconds\n",
      "60 seconds\n",
      "200 seconds\n",
      "220 seconds\n",
      "60 seconds\n",
      "61 seconds\n",
      "139 seconds\n",
      "360 seconds\n",
      "321 seconds\n",
      "541 seconds\n",
      "59 seconds\n",
      "60 seconds\n",
      "240 seconds\n",
      "60 seconds\n",
      "441 seconds\n",
      "120 seconds\n",
      "60 seconds\n",
      "60 seconds\n",
      "60 seconds\n",
      "180 seconds\n",
      "60 seconds\n",
      "60 seconds\n",
      "60 seconds\n",
      "200 seconds\n",
      "180 seconds\n",
      "60 seconds\n",
      "120 seconds\n",
      "60 seconds\n",
      "61 seconds\n",
      "60 seconds\n",
      "120 seconds\n",
      "60 seconds\n",
      "60 seconds\n",
      "140 seconds\n",
      "60 seconds\n",
      "60 seconds\n",
      "120 seconds\n",
      "61 seconds\n",
      "59 seconds\n",
      "60 seconds\n",
      "60 seconds\n",
      "80 seconds\n",
      "61 seconds\n",
      "59 seconds\n",
      "60 seconds\n",
      "121 seconds\n",
      "120 seconds\n",
      "139 seconds\n",
      "60 seconds\n",
      "60 seconds\n",
      "60 seconds\n",
      "80 seconds\n",
      "241 seconds\n",
      "60 seconds\n",
      "80 seconds\n",
      "180 seconds\n",
      "80 seconds\n",
      "80 seconds\n",
      "120 seconds\n",
      "140 seconds\n",
      "60 seconds\n",
      "60 seconds\n",
      "60 seconds\n",
      "60 seconds\n",
      "60 seconds\n",
      "61 seconds\n",
      "80 seconds\n",
      "60 seconds\n",
      "120 seconds\n",
      "80 seconds\n",
      "60 seconds\n",
      "60 seconds\n",
      "61 seconds\n",
      "59 seconds\n",
      "60 seconds\n",
      "120 seconds\n",
      "80 seconds\n",
      "60 seconds\n",
      "120 seconds\n",
      "60 seconds\n",
      "200 seconds\n",
      "60 seconds\n",
      "60 seconds\n",
      "261 seconds\n",
      "62 seconds\n",
      "57 seconds\n",
      "61 seconds\n",
      "300 seconds\n",
      "80 seconds\n",
      "60 seconds\n",
      "60 seconds\n",
      "60 seconds\n",
      "120 seconds\n",
      "60 seconds\n",
      "60 seconds\n",
      "60 seconds\n",
      "60 seconds\n",
      "80 seconds\n",
      "120 seconds\n",
      "120 seconds\n",
      "60 seconds\n",
      "60 seconds\n",
      "180 seconds\n",
      "80 seconds\n",
      "181 seconds\n",
      "60 seconds\n",
      "60 seconds\n",
      "199 seconds\n",
      "2583 seconds\n",
      "179 seconds\n",
      "101 seconds\n",
      "100 seconds\n",
      "60 seconds\n",
      "60 seconds\n",
      "60 seconds\n",
      "60 seconds\n",
      "60 seconds\n",
      "60 seconds\n",
      "60 seconds\n",
      "120 seconds\n",
      "80 seconds\n",
      "60 seconds\n",
      "60 seconds\n",
      "120 seconds\n",
      "60 seconds\n",
      "140 seconds\n",
      "180 seconds\n",
      "261 seconds\n",
      "59 seconds\n",
      "61 seconds\n",
      "60 seconds\n",
      "60 seconds\n",
      "60 seconds\n",
      "60 seconds\n",
      "60 seconds\n",
      "60 seconds\n",
      "60 seconds\n",
      "60 seconds\n",
      "60 seconds\n",
      "140 seconds\n",
      "40 seconds\n",
      "60 seconds\n",
      "60 seconds\n",
      "80 seconds\n",
      "60 seconds\n",
      "60 seconds\n",
      "60 seconds\n",
      "200 seconds\n",
      "61 seconds\n",
      "120 seconds\n",
      "59 seconds\n",
      "61 seconds\n",
      "59 seconds\n",
      "61 seconds\n",
      "59 seconds\n",
      "140 seconds\n",
      "61 seconds\n",
      "120 seconds\n",
      "60 seconds\n",
      "140 seconds\n",
      "60 seconds\n",
      "80 seconds\n",
      "60 seconds\n",
      "60 seconds\n",
      "60 seconds\n",
      "60 seconds\n",
      "140 seconds\n",
      "61 seconds\n",
      "59 seconds\n",
      "201 seconds\n",
      "59 seconds\n",
      "380 seconds\n",
      "61 seconds\n",
      "60 seconds\n",
      "60 seconds\n",
      "60 seconds\n",
      "120 seconds\n",
      "80 seconds\n",
      "180 seconds\n",
      "61 seconds\n",
      "139 seconds\n",
      "60 seconds\n",
      "61 seconds\n",
      "199 seconds\n",
      "1301 seconds\n",
      "60 seconds\n",
      "61 seconds\n",
      "59 seconds\n",
      "141 seconds\n",
      "79 seconds\n",
      "201 seconds\n",
      "60 seconds\n",
      "61 seconds\n",
      "79 seconds\n",
      "60 seconds\n",
      "60 seconds\n",
      "60 seconds\n",
      "60 seconds\n",
      "60 seconds\n",
      "80 seconds\n",
      "60 seconds\n",
      "80 seconds\n",
      "80 seconds\n",
      "120 seconds\n",
      "60 seconds\n",
      "60 seconds\n",
      "240 seconds\n",
      "80 seconds\n",
      "60 seconds\n",
      "61 seconds\n",
      "79 seconds\n",
      "60 seconds\n",
      "121 seconds\n",
      "60 seconds\n",
      "80 seconds\n",
      "80 seconds\n",
      "40 seconds\n",
      "80 seconds\n",
      "60 seconds\n",
      "60 seconds\n",
      "60 seconds\n",
      "60 seconds\n",
      "60 seconds\n",
      "80 seconds\n",
      "60 seconds\n",
      "100 seconds\n",
      "181 seconds\n"
     ]
    }
   ],
   "source": [
    "tm_bs1 = data_bus[data_bus['id']==bs_uq[1]]\n",
    "dtm = np.sort(tm_bs1['datetime'])\n",
    "\n",
    "for ind in np.arange(1,dtm.shape[0]):\n",
    "    print(np.timedelta64(dtm[ind]-dtm[ind-1],'s'))"
   ]
  },
  {
   "cell_type": "markdown",
   "metadata": {},
   "source": [
    "видим что шаг по времени различный\n",
    "хотя время транзакции тоже странное... вполне возможно что оно как-то с географией связано.. надо проверить.. \n",
    "вполне возможно это как-то будет кластеризоваться"
   ]
  },
  {
   "cell_type": "code",
   "execution_count": 28,
   "metadata": {
    "collapsed": true
   },
   "outputs": [],
   "source": [
    "tm_uniq = np.sort(data_df['datetime'].unique())"
   ]
  },
  {
   "cell_type": "code",
   "execution_count": 29,
   "metadata": {
    "collapsed": true
   },
   "outputs": [],
   "source": [
    "tram_df = data_df[data_df['type']=='tramway']\n",
    "bus_df = data_df[data_df['type']=='bus']\n",
    "trol_df = data_df[data_df['type']=='trolleybus']"
   ]
  },
  {
   "cell_type": "code",
   "execution_count": 49,
   "metadata": {
    "collapsed": false
   },
   "outputs": [
    {
     "data": {
      "image/png": "[encoded data removed]",
      "text/plain": [
       "<matplotlib.figure.Figure at 0x7f6ba62f1940>"
      ]
     },
     "metadata": {},
     "output_type": "display_data"
    }
   ],
   "source": [
    "for tm in tm_uniq:\n",
    "    trmSc = tram_df[tram_df['datetime']==tm]\n",
    "    plt.plot(trmSc['lat'],trmSc['lon'],'ro')\n",
    "    #time.sleep(0.05)"
   ]
  },
  {
   "cell_type": "code",
   "execution_count": 30,
   "metadata": {
    "collapsed": true
   },
   "outputs": [],
   "source": [
    "import time\n",
    "import seaborn\n",
    "from mpl_toolkits.mplot3d import Axes3D"
   ]
  },
  {
   "cell_type": "code",
   "execution_count": 31,
   "metadata": {
    "collapsed": false
   },
   "outputs": [],
   "source": [
    "dft = np.array(bus_df['datetime'])"
   ]
  },
  {
   "cell_type": "code",
   "execution_count": 65,
   "metadata": {
    "collapsed": false
   },
   "outputs": [
    {
     "data": {
      "text/plain": [
       "(818823,)"
      ]
     },
     "execution_count": 65,
     "metadata": {},
     "output_type": "execute_result"
    }
   ],
   "source": [
    "dft.shape"
   ]
  },
  {
   "cell_type": "code",
   "execution_count": 32,
   "metadata": {
    "collapsed": false
   },
   "outputs": [],
   "source": [
    "from datetime import datetime"
   ]
  },
  {
   "cell_type": "code",
   "execution_count": 33,
   "metadata": {
    "collapsed": false
   },
   "outputs": [
    {
     "data": {
      "text/plain": [
       "'2015-05-12 06:46:15'"
      ]
     },
     "execution_count": 33,
     "metadata": {},
     "output_type": "execute_result"
    }
   ],
   "source": [
    "str(bus_df['datetime'][1786])"
   ]
  },
  {
   "cell_type": "code",
   "execution_count": 91,
   "metadata": {
    "collapsed": false
   },
   "outputs": [
    {
     "name": "stdout",
     "output_type": "stream",
     "text": [
      "datetime.datetime(2015, 5, 12, 6, 46, 15)\n"
     ]
    }
   ],
   "source": [
    "date_str = str(bus_df['datetime'][1786])\n",
    "dt_obj = datetime.strptime(date_str, \"%Y-%m-%d %H:%M:%S\")\n",
    "print(repr(dt_obj))\n"
   ]
  },
  {
   "cell_type": "code",
   "execution_count": 92,
   "metadata": {
    "collapsed": false
   },
   "outputs": [
    {
     "data": {
      "text/plain": [
       "1431398775.0"
      ]
     },
     "execution_count": 92,
     "metadata": {},
     "output_type": "execute_result"
    }
   ],
   "source": [
    "dt_obj.timestamp()"
   ]
  },
  {
   "cell_type": "code",
   "execution_count": 35,
   "metadata": {
    "collapsed": false
   },
   "outputs": [
    {
     "name": "stderr",
     "output_type": "stream",
     "text": [
      "/home/roman/anaconda3/lib/python3.5/site-packages/ipykernel/__main__.py:1: SettingWithCopyWarning: \n",
      "A value is trying to be set on a copy of a slice from a DataFrame.\n",
      "Try using .loc[row_indexer,col_indexer] = value instead\n",
      "\n",
      "See the caveats in the documentation: http://pandas.pydata.org/pandas-docs/stable/indexing.html#indexing-view-versus-copy\n",
      "  if __name__ == '__main__':\n"
     ]
    }
   ],
   "source": [
    "bus_df['datetime'] = bus_df['datetime'].apply(lambda x: datetime.strptime(str(x), \"%Y-%m-%d %H:%M:%S\").timestamp())"
   ]
  },
  {
   "cell_type": "code",
   "execution_count": 97,
   "metadata": {
    "collapsed": false
   },
   "outputs": [],
   "source": [
    "bus_df.to_csv('busStops.csv',index=False,sep=',')"
   ]
  },
  {
   "cell_type": "code",
   "execution_count": 98,
   "metadata": {
    "collapsed": false
   },
   "outputs": [
    {
     "data": {
      "text/html": [
       "<div>\n",
       "<table border=\"1\" class=\"dataframe\">\n",
       "  <thead>\n",
       "    <tr style=\"text-align: right;\">\n",
       "      <th></th>\n",
       "      <th>datetime</th>\n",
       "      <th>id</th>\n",
       "      <th>type</th>\n",
       "      <th>route_id</th>\n",
       "      <th>lat</th>\n",
       "      <th>lon</th>\n",
       "    </tr>\n",
       "  </thead>\n",
       "  <tbody>\n",
       "    <tr>\n",
       "      <th>1786</th>\n",
       "      <td>1.431399e+09</td>\n",
       "      <td>4002</td>\n",
       "      <td>bus</td>\n",
       "      <td>4</td>\n",
       "      <td>50.603019</td>\n",
       "      <td>51.190580</td>\n",
       "    </tr>\n",
       "    <tr>\n",
       "      <th>1787</th>\n",
       "      <td>1.431399e+09</td>\n",
       "      <td>4002</td>\n",
       "      <td>bus</td>\n",
       "      <td>4</td>\n",
       "      <td>50.602962</td>\n",
       "      <td>51.190408</td>\n",
       "    </tr>\n",
       "    <tr>\n",
       "      <th>1788</th>\n",
       "      <td>1.431400e+09</td>\n",
       "      <td>4002</td>\n",
       "      <td>bus</td>\n",
       "      <td>4</td>\n",
       "      <td>50.602390</td>\n",
       "      <td>51.188697</td>\n",
       "    </tr>\n",
       "    <tr>\n",
       "      <th>1789</th>\n",
       "      <td>1.431400e+09</td>\n",
       "      <td>4002</td>\n",
       "      <td>bus</td>\n",
       "      <td>4</td>\n",
       "      <td>50.602215</td>\n",
       "      <td>51.188171</td>\n",
       "    </tr>\n",
       "    <tr>\n",
       "      <th>1790</th>\n",
       "      <td>1.431400e+09</td>\n",
       "      <td>4002</td>\n",
       "      <td>bus</td>\n",
       "      <td>4</td>\n",
       "      <td>50.601902</td>\n",
       "      <td>51.187228</td>\n",
       "    </tr>\n",
       "  </tbody>\n",
       "</table>\n",
       "</div>"
      ],
      "text/plain": [
       "          datetime    id type  route_id        lat        lon\n",
       "1786  1.431399e+09  4002  bus         4  50.603019  51.190580\n",
       "1787  1.431399e+09  4002  bus         4  50.602962  51.190408\n",
       "1788  1.431400e+09  4002  bus         4  50.602390  51.188697\n",
       "1789  1.431400e+09  4002  bus         4  50.602215  51.188171\n",
       "1790  1.431400e+09  4002  bus         4  50.601902  51.187228"
      ]
     },
     "execution_count": 98,
     "metadata": {},
     "output_type": "execute_result"
    }
   ],
   "source": [
    "bus_df.head()"
   ]
  },
  {
   "cell_type": "code",
   "execution_count": 36,
   "metadata": {
    "collapsed": false
   },
   "outputs": [],
   "source": [
    "bus_sv1 = bus_df[bus_df['route_id']==4]"
   ]
  },
  {
   "cell_type": "code",
   "execution_count": 37,
   "metadata": {
    "collapsed": true
   },
   "outputs": [],
   "source": [
    "from sklearn.preprocessing import LabelEncoder\n",
    "label = LabelEncoder()"
   ]
  },
  {
   "cell_type": "code",
   "execution_count": 39,
   "metadata": {
    "collapsed": false
   },
   "outputs": [
    {
     "data": {
      "text/plain": [
       "LabelEncoder()"
      ]
     },
     "execution_count": 39,
     "metadata": {},
     "output_type": "execute_result"
    }
   ],
   "source": [
    "label.fit(bus_sv1['id'].drop_duplicates()) #задаем список значений для кодирования\n",
    "#bus_sv1['id'] = label.transform(list(label.classes_)) #заменяем значения из списка кодами закодированных элементо"
   ]
  },
  {
   "cell_type": "code",
   "execution_count": 41,
   "metadata": {
    "collapsed": true
   },
   "outputs": [],
   "source": [
    "dicts = {}"
   ]
  },
  {
   "cell_type": "code",
   "execution_count": 48,
   "metadata": {
    "collapsed": true
   },
   "outputs": [],
   "source": [
    "dicts['id'] = list(label.classes_)"
   ]
  },
  {
   "cell_type": "code",
   "execution_count": 43,
   "metadata": {
    "collapsed": false
   },
   "outputs": [
    {
     "name": "stderr",
     "output_type": "stream",
     "text": [
      "/home/roman/anaconda3/lib/python3.5/site-packages/ipykernel/__main__.py:1: SettingWithCopyWarning: \n",
      "A value is trying to be set on a copy of a slice from a DataFrame.\n",
      "Try using .loc[row_indexer,col_indexer] = value instead\n",
      "\n",
      "See the caveats in the documentation: http://pandas.pydata.org/pandas-docs/stable/indexing.html#indexing-view-versus-copy\n",
      "  if __name__ == '__main__':\n"
     ]
    }
   ],
   "source": [
    "bus_sv1['id'] = label.transform(bus_sv1['id']) "
   ]
  },
  {
   "cell_type": "code",
   "execution_count": 44,
   "metadata": {
    "collapsed": false
   },
   "outputs": [
    {
     "data": {
      "text/html": [
       "<div>\n",
       "<table border=\"1\" class=\"dataframe\">\n",
       "  <thead>\n",
       "    <tr style=\"text-align: right;\">\n",
       "      <th></th>\n",
       "      <th>datetime</th>\n",
       "      <th>id</th>\n",
       "      <th>type</th>\n",
       "      <th>route_id</th>\n",
       "      <th>lat</th>\n",
       "      <th>lon</th>\n",
       "    </tr>\n",
       "  </thead>\n",
       "  <tbody>\n",
       "    <tr>\n",
       "      <th>1786</th>\n",
       "      <td>1.431399e+09</td>\n",
       "      <td>8</td>\n",
       "      <td>bus</td>\n",
       "      <td>4</td>\n",
       "      <td>50.603019</td>\n",
       "      <td>51.190580</td>\n",
       "    </tr>\n",
       "    <tr>\n",
       "      <th>1787</th>\n",
       "      <td>1.431399e+09</td>\n",
       "      <td>8</td>\n",
       "      <td>bus</td>\n",
       "      <td>4</td>\n",
       "      <td>50.602962</td>\n",
       "      <td>51.190408</td>\n",
       "    </tr>\n",
       "    <tr>\n",
       "      <th>1788</th>\n",
       "      <td>1.431400e+09</td>\n",
       "      <td>8</td>\n",
       "      <td>bus</td>\n",
       "      <td>4</td>\n",
       "      <td>50.602390</td>\n",
       "      <td>51.188697</td>\n",
       "    </tr>\n",
       "    <tr>\n",
       "      <th>1789</th>\n",
       "      <td>1.431400e+09</td>\n",
       "      <td>8</td>\n",
       "      <td>bus</td>\n",
       "      <td>4</td>\n",
       "      <td>50.602215</td>\n",
       "      <td>51.188171</td>\n",
       "    </tr>\n",
       "    <tr>\n",
       "      <th>1790</th>\n",
       "      <td>1.431400e+09</td>\n",
       "      <td>8</td>\n",
       "      <td>bus</td>\n",
       "      <td>4</td>\n",
       "      <td>50.601902</td>\n",
       "      <td>51.187228</td>\n",
       "    </tr>\n",
       "  </tbody>\n",
       "</table>\n",
       "</div>"
      ],
      "text/plain": [
       "          datetime  id type  route_id        lat        lon\n",
       "1786  1.431399e+09   8  bus         4  50.603019  51.190580\n",
       "1787  1.431399e+09   8  bus         4  50.602962  51.190408\n",
       "1788  1.431400e+09   8  bus         4  50.602390  51.188697\n",
       "1789  1.431400e+09   8  bus         4  50.602215  51.188171\n",
       "1790  1.431400e+09   8  bus         4  50.601902  51.187228"
      ]
     },
     "execution_count": 44,
     "metadata": {},
     "output_type": "execute_result"
    }
   ],
   "source": [
    "bus_sv1.head()"
   ]
  },
  {
   "cell_type": "code",
   "execution_count": 45,
   "metadata": {
    "collapsed": true
   },
   "outputs": [],
   "source": [
    "bus_sv1.to_csv('busSv1.csv',index=False,sep=',')"
   ]
  },
  {
   "cell_type": "code",
   "execution_count": null,
   "metadata": {
    "collapsed": true
   },
   "outputs": [],
   "source": []
  }
 ],
 "metadata": {
  "anaconda-cloud": {},
  "kernelspec": {
   "display_name": "Python [conda root]",
   "language": "python",
   "name": "conda-root-py"
  },
  "language_info": {
   "codemirror_mode": {
    "name": "ipython",
    "version": 3
   },
   "file_extension": ".py",
   "mimetype": "text/x-python",
   "name": "python",
   "nbconvert_exporter": "python",
   "pygments_lexer": "ipython3",
   "version": "3.5.2"
  }
 },
 "nbformat": 4,
 "nbformat_minor": 1
}
