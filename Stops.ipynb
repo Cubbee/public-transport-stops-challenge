{
 "cells": [
  {
   "cell_type": "code",
   "execution_count": 1,
   "metadata": {
    "collapsed": false
   },
   "outputs": [],
   "source": [
    "import numpy as np\n",
    "import pandas as pd\n",
    "import matplotlib.pyplot as plt\n",
    "%matplotlib inline\n",
    "\n",
    "from sklearn.model_selection import GridSearchCV, train_test_split, KFold\n",
    "from sklearn.neighbors import KNeighborsClassifier\n",
    "from sklearn import linear_model\n",
    "from sklearn.svm import SVC\n",
    "from sklearn import ensemble\n",
    "from sklearn.linear_model import LogisticRegression\n",
    "from sklearn.naive_bayes import GaussianNB\n",
    "from sklearn.metrics import classification_report, confusion_matrix\n",
    "from sklearn.tree import DecisionTreeClassifier\n",
    "from sklearn.ensemble import RandomForestClassifier\n",
    "from sklearn.metrics import mean_squared_error\n",
    "from sklearn.preprocessing import PolynomialFeatures, StandardScaler, MinMaxScaler\n",
    "\n",
    "from tqdm import tqdm, tqdm_notebook"
   ]
  },
  {
   "cell_type": "code",
   "execution_count": 2,
   "metadata": {
    "collapsed": false
   },
   "outputs": [
    {
     "name": "stdout",
     "output_type": "stream",
     "text": [
      "(1064095, 6)\n"
     ]
    }
   ],
   "source": [
    "data_df = pd.read_csv('data.tsv', sep='\\t', names=['datetime', 'id', 'type', 'route_id', 'lat', 'lon'])\n",
    "target_stops = pd.read_csv('debug.tsv', sep='\\t', names=['transport_type', 'route_id', 'lat', 'lon'])\n",
    "\n",
    "print(data_df.shape)"
   ]
  },
  {
   "cell_type": "code",
   "execution_count": 3,
   "metadata": {
    "collapsed": true
   },
   "outputs": [],
   "source": [
    "data_df['datetime'] = pd.to_datetime(data_df['datetime'])\n"
   ]
  },
  {
   "cell_type": "code",
   "execution_count": 4,
   "metadata": {
    "collapsed": false
   },
   "outputs": [
    {
     "data": {
      "text/html": [
       "<div>\n",
       "<table border=\"1\" class=\"dataframe\">\n",
       "  <thead>\n",
       "    <tr style=\"text-align: right;\">\n",
       "      <th></th>\n",
       "      <th>datetime</th>\n",
       "      <th>id</th>\n",
       "      <th>type</th>\n",
       "      <th>route_id</th>\n",
       "      <th>lat</th>\n",
       "      <th>lon</th>\n",
       "    </tr>\n",
       "  </thead>\n",
       "  <tbody>\n",
       "    <tr>\n",
       "      <th>0</th>\n",
       "      <td>2015-05-12 14:24:33</td>\n",
       "      <td>3982</td>\n",
       "      <td>tramway</td>\n",
       "      <td>1</td>\n",
       "      <td>50.700576</td>\n",
       "      <td>51.212909</td>\n",
       "    </tr>\n",
       "    <tr>\n",
       "      <th>1</th>\n",
       "      <td>2015-05-12 14:25:13</td>\n",
       "      <td>3982</td>\n",
       "      <td>tramway</td>\n",
       "      <td>1</td>\n",
       "      <td>50.702068</td>\n",
       "      <td>51.212772</td>\n",
       "    </tr>\n",
       "    <tr>\n",
       "      <th>2</th>\n",
       "      <td>2015-05-12 14:25:53</td>\n",
       "      <td>3982</td>\n",
       "      <td>tramway</td>\n",
       "      <td>1</td>\n",
       "      <td>50.702930</td>\n",
       "      <td>51.212703</td>\n",
       "    </tr>\n",
       "    <tr>\n",
       "      <th>3</th>\n",
       "      <td>2015-05-12 14:26:33</td>\n",
       "      <td>3982</td>\n",
       "      <td>tramway</td>\n",
       "      <td>1</td>\n",
       "      <td>50.705974</td>\n",
       "      <td>51.212421</td>\n",
       "    </tr>\n",
       "    <tr>\n",
       "      <th>4</th>\n",
       "      <td>2015-05-12 14:27:13</td>\n",
       "      <td>3982</td>\n",
       "      <td>tramway</td>\n",
       "      <td>1</td>\n",
       "      <td>50.706775</td>\n",
       "      <td>51.212428</td>\n",
       "    </tr>\n",
       "  </tbody>\n",
       "</table>\n",
       "</div>"
      ],
      "text/plain": [
       "             datetime    id     type  route_id        lat        lon\n",
       "0 2015-05-12 14:24:33  3982  tramway         1  50.700576  51.212909\n",
       "1 2015-05-12 14:25:13  3982  tramway         1  50.702068  51.212772\n",
       "2 2015-05-12 14:25:53  3982  tramway         1  50.702930  51.212703\n",
       "3 2015-05-12 14:26:33  3982  tramway         1  50.705974  51.212421\n",
       "4 2015-05-12 14:27:13  3982  tramway         1  50.706775  51.212428"
      ]
     },
     "execution_count": 4,
     "metadata": {},
     "output_type": "execute_result"
    }
   ],
   "source": [
    "data_df.head()"
   ]
  },
  {
   "cell_type": "code",
   "execution_count": 5,
   "metadata": {
    "collapsed": false
   },
   "outputs": [
    {
     "data": {
      "text/plain": [
       "datetime    1064095\n",
       "id          1064095\n",
       "type        1064095\n",
       "route_id    1064095\n",
       "lat         1064095\n",
       "lon         1064095\n",
       "dtype: int64"
      ]
     },
     "execution_count": 5,
     "metadata": {},
     "output_type": "execute_result"
    }
   ],
   "source": [
    "data_df.count()"
   ]
  },
  {
   "cell_type": "code",
   "execution_count": 6,
   "metadata": {
    "collapsed": false
   },
   "outputs": [
    {
     "data": {
      "text/plain": [
       "datetime    datetime64[ns]\n",
       "id                   int64\n",
       "type                object\n",
       "route_id             int64\n",
       "lat                float64\n",
       "lon                float64\n",
       "dtype: object"
      ]
     },
     "execution_count": 6,
     "metadata": {},
     "output_type": "execute_result"
    }
   ],
   "source": [
    "data_df.dtypes"
   ]
  },
  {
   "cell_type": "code",
   "execution_count": 7,
   "metadata": {
    "collapsed": false
   },
   "outputs": [
    {
     "data": {
      "text/html": [
       "<div>\n",
       "<table border=\"1\" class=\"dataframe\">\n",
       "  <thead>\n",
       "    <tr style=\"text-align: right;\">\n",
       "      <th></th>\n",
       "      <th>count</th>\n",
       "      <th>mean</th>\n",
       "      <th>std</th>\n",
       "      <th>min</th>\n",
       "      <th>25%</th>\n",
       "      <th>50%</th>\n",
       "      <th>75%</th>\n",
       "      <th>max</th>\n",
       "    </tr>\n",
       "  </thead>\n",
       "  <tbody>\n",
       "    <tr>\n",
       "      <th>id</th>\n",
       "      <td>1064095.0</td>\n",
       "      <td>4291.581742</td>\n",
       "      <td>2982.796960</td>\n",
       "      <td>759.000000</td>\n",
       "      <td>1501.000000</td>\n",
       "      <td>3475.000000</td>\n",
       "      <td>7136.000000</td>\n",
       "      <td>10319.000000</td>\n",
       "    </tr>\n",
       "    <tr>\n",
       "      <th>route_id</th>\n",
       "      <td>1064095.0</td>\n",
       "      <td>63.941277</td>\n",
       "      <td>48.076470</td>\n",
       "      <td>1.000000</td>\n",
       "      <td>29.000000</td>\n",
       "      <td>53.000000</td>\n",
       "      <td>89.000000</td>\n",
       "      <td>224.000000</td>\n",
       "    </tr>\n",
       "    <tr>\n",
       "      <th>lat</th>\n",
       "      <td>1064095.0</td>\n",
       "      <td>50.606622</td>\n",
       "      <td>0.084658</td>\n",
       "      <td>50.296417</td>\n",
       "      <td>50.544712</td>\n",
       "      <td>50.611568</td>\n",
       "      <td>50.676059</td>\n",
       "      <td>51.046154</td>\n",
       "    </tr>\n",
       "    <tr>\n",
       "      <th>lon</th>\n",
       "      <td>1064095.0</td>\n",
       "      <td>51.106284</td>\n",
       "      <td>0.143798</td>\n",
       "      <td>50.145202</td>\n",
       "      <td>51.053720</td>\n",
       "      <td>51.128475</td>\n",
       "      <td>51.189899</td>\n",
       "      <td>52.058666</td>\n",
       "    </tr>\n",
       "  </tbody>\n",
       "</table>\n",
       "</div>"
      ],
      "text/plain": [
       "              count         mean          std         min          25%  \\\n",
       "id        1064095.0  4291.581742  2982.796960  759.000000  1501.000000   \n",
       "route_id  1064095.0    63.941277    48.076470    1.000000    29.000000   \n",
       "lat       1064095.0    50.606622     0.084658   50.296417    50.544712   \n",
       "lon       1064095.0    51.106284     0.143798   50.145202    51.053720   \n",
       "\n",
       "                  50%          75%           max  \n",
       "id        3475.000000  7136.000000  10319.000000  \n",
       "route_id    53.000000    89.000000    224.000000  \n",
       "lat         50.611568    50.676059     51.046154  \n",
       "lon         51.128475    51.189899     52.058666  "
      ]
     },
     "execution_count": 7,
     "metadata": {},
     "output_type": "execute_result"
    }
   ],
   "source": [
    "data_df.describe().T"
   ]
  },
  {
   "cell_type": "markdown",
   "metadata": {},
   "source": [
    "отобразим все координаты на плоскость"
   ]
  },
  {
   "cell_type": "code",
   "execution_count": 8,
   "metadata": {
    "collapsed": false
   },
   "outputs": [
    {
     "data": {
      "text/plain": [
       "<matplotlib.collections.PathCollection at 0x7f6bae131048>"
      ]
     },
     "execution_count": 8,
     "metadata": {},
     "output_type": "execute_result"
    },
    {
     "data": {
      "image/png": "[encoded data removed]",
      "text/plain": [
       "<matplotlib.figure.Figure at 0x7f6badf07080>"
      ]
     },
     "metadata": {},
     "output_type": "display_data"
    }
   ],
   "source": [
    "plt.scatter(data_df['lat'],data_df['lon'])"
   ]
  },
  {
   "cell_type": "markdown",
   "metadata": {},
   "source": [
    "Определим есть ли пересечение в маршрутах для различного типа транспорта, вообще логично если есть"
   ]
  },
  {
   "cell_type": "code",
   "execution_count": 8,
   "metadata": {
    "collapsed": false
   },
   "outputs": [
    {
     "data": {
      "text/plain": [
       "array(['tramway', 'bus', 'trolleybus'], dtype=object)"
      ]
     },
     "execution_count": 8,
     "metadata": {},
     "output_type": "execute_result"
    }
   ],
   "source": [
    "data_df['type'].unique()"
   ]
  },
  {
   "cell_type": "code",
   "execution_count": 10,
   "metadata": {
    "collapsed": false
   },
   "outputs": [
    {
     "name": "stdout",
     "output_type": "stream",
     "text": [
      "tramway :  [  1   2   3   5  11  14  15  16  17  18  19  21  22  23  24  25  27  28\n",
      "  29  30  31  32  33  39  41  45  48  49  51  54  70  71  72  75  76  77\n",
      "  78  79 103]\n",
      "bus :  [  3   4   5   6   7   8   9  10  11  12  13  14  15  18  22  23  24  25\n",
      "  26  27  28  30  31  32  34  35  36  37  38  39  40  42  43  45  46  47\n",
      "  48  50  52  53  55  56  57  58  59  60  61  62  63  64  65  66  67  68\n",
      "  69  71  72  73  74  76  77  79  80  81  82  83  84  85  86  87  89  90\n",
      "  91  92  93  94  95  97  98  99 100 102 103 105 106 107 108 109 110 111\n",
      " 112 113 114 115 116 117 118 119 120 121 122 123 124 125 126 127 128 129\n",
      " 130 131 132 133 134 135 137 138 139 140 141 142 143 144 145 146 147 148\n",
      " 149 150 152 153 155 157 158 159 160 161 162 163 164 165 166 167 168 169\n",
      " 170 171 172 173 174 175 176 177 178 179 180 181 182 183 184 185 186 187\n",
      " 188 189 190 191 192 193 194 195 196 197 198 199 200 201 202 203 204 205\n",
      " 206 207 208 209 210 211 212 213 214 215 216 217 218 219 220 221 222 223\n",
      " 224]\n",
      "trolleybus :  [  3   4   5   6  10  11  17  18  19  20  21  22  24  26  27  29  31  32\n",
      "  39  43  44  45  48  51  54  67  70  71  75  76  78  88  96 101 104 118\n",
      " 132 136 151 154 156 157 158]\n"
     ]
    }
   ],
   "source": [
    "print('tramway : ',np.unique(data_df[data_df['type']=='tramway']['route_id']))\n",
    "print('bus : ',np.unique(data_df[data_df['type']=='bus']['route_id']))\n",
    "print('trolleybus : ',np.unique(data_df[data_df['type']=='trolleybus']['route_id']))"
   ]
  },
  {
   "cell_type": "code",
   "execution_count": 4,
   "metadata": {
    "collapsed": false
   },
   "outputs": [
    {
     "name": "stdout",
     "output_type": "stream",
     "text": [
      "count of routes tramway = 39| count of routes bus = 199| count of routes trolleybus = 43\n"
     ]
    }
   ],
   "source": [
    "tram_routes = np.unique(data_df[data_df['type']=='tramway']['route_id'])\n",
    "bus_routes = np.unique(data_df[data_df['type']=='bus']['route_id'])\n",
    "trol_routes = np.unique(data_df[data_df['type']=='trolleybus']['route_id'])\n",
    "\n",
    "print('count of routes tramway = %d| count of routes bus = %d| count of routes trolleybus = %d'%(tram_routes.shape[0],bus_routes.shape[0],trol_routes.shape[0]))"
   ]
  },
  {
   "cell_type": "code",
   "execution_count": 5,
   "metadata": {
    "collapsed": false
   },
   "outputs": [],
   "source": [
    "data_bus = data_df[(data_df['type']=='bus')&(data_df['route_id']==bus_routes[1])]"
   ]
  },
  {
   "cell_type": "code",
   "execution_count": 6,
   "metadata": {
    "collapsed": false
   },
   "outputs": [
    {
     "data": {
      "text/plain": [
       "(19221, 6)"
      ]
     },
     "execution_count": 6,
     "metadata": {},
     "output_type": "execute_result"
    }
   ],
   "source": [
    "data_bus.shape"
   ]
  },
  {
   "cell_type": "code",
   "execution_count": 46,
   "metadata": {
    "collapsed": false
   },
   "outputs": [
    {
     "data": {
      "text/plain": [
       "4"
      ]
     },
     "execution_count": 46,
     "metadata": {},
     "output_type": "execute_result"
    }
   ],
   "source": [
    "bus_routes[1]"
   ]
  },
  {
   "cell_type": "code",
   "execution_count": 6,
   "metadata": {
    "collapsed": false
   },
   "outputs": [],
   "source": [
    "unq_bus = data_bus['id'].unique()"
   ]
  },
  {
   "cell_type": "markdown",
   "metadata": {},
   "source": [
    "наверное популярный маршрут много автобусов ходят"
   ]
  },
  {
   "cell_type": "code",
   "execution_count": 15,
   "metadata": {
    "collapsed": false
   },
   "outputs": [
    {
     "data": {
      "text/plain": [
       "<matplotlib.collections.PathCollection at 0x7f6bae0d99b0>"
      ]
     },
     "execution_count": 15,
     "metadata": {},
     "output_type": "execute_result"
    },
    {
     "data": {
      "image/png": "[encoded data removed]",
      "text/plain": [
       "<matplotlib.figure.Figure at 0x7f6bae108c50>"
      ]
     },
     "metadata": {},
     "output_type": "display_data"
    }
   ],
   "source": [
    "plt.scatter(data_bus['lat'],data_bus['lon'])"
   ]
  },
  {
   "cell_type": "code",
   "execution_count": 7,
   "metadata": {
    "collapsed": false
   },
   "outputs": [],
   "source": [
    "bus_id = data_bus[data_bus['id']==unq_bus[1]]"
   ]
  },
  {
   "cell_type": "code",
   "execution_count": 8,
   "metadata": {
    "collapsed": false
   },
   "outputs": [
    {
     "data": {
      "text/html": [
       "<div>\n",
       "<table border=\"1\" class=\"dataframe\">\n",
       "  <thead>\n",
       "    <tr style=\"text-align: right;\">\n",
       "      <th></th>\n",
       "      <th>datetime</th>\n",
       "      <th>id</th>\n",
       "      <th>type</th>\n",
       "      <th>route_id</th>\n",
       "      <th>lat</th>\n",
       "      <th>lon</th>\n",
       "    </tr>\n",
       "  </thead>\n",
       "  <tbody>\n",
       "    <tr>\n",
       "      <th>68701</th>\n",
       "      <td>2015-05-12 02:21:24</td>\n",
       "      <td>1036</td>\n",
       "      <td>bus</td>\n",
       "      <td>4</td>\n",
       "      <td>50.666511</td>\n",
       "      <td>51.099836</td>\n",
       "    </tr>\n",
       "    <tr>\n",
       "      <th>68702</th>\n",
       "      <td>2015-05-12 02:22:44</td>\n",
       "      <td>1036</td>\n",
       "      <td>bus</td>\n",
       "      <td>4</td>\n",
       "      <td>50.664741</td>\n",
       "      <td>51.095104</td>\n",
       "    </tr>\n",
       "    <tr>\n",
       "      <th>68703</th>\n",
       "      <td>2015-05-12 02:23:44</td>\n",
       "      <td>1036</td>\n",
       "      <td>bus</td>\n",
       "      <td>4</td>\n",
       "      <td>50.665126</td>\n",
       "      <td>51.086566</td>\n",
       "    </tr>\n",
       "    <tr>\n",
       "      <th>68704</th>\n",
       "      <td>2015-05-12 02:24:44</td>\n",
       "      <td>1036</td>\n",
       "      <td>bus</td>\n",
       "      <td>4</td>\n",
       "      <td>50.666279</td>\n",
       "      <td>51.082240</td>\n",
       "    </tr>\n",
       "    <tr>\n",
       "      <th>68705</th>\n",
       "      <td>2015-05-12 02:25:44</td>\n",
       "      <td>1036</td>\n",
       "      <td>bus</td>\n",
       "      <td>4</td>\n",
       "      <td>50.665363</td>\n",
       "      <td>51.081512</td>\n",
       "    </tr>\n",
       "  </tbody>\n",
       "</table>\n",
       "</div>"
      ],
      "text/plain": [
       "                 datetime    id type  route_id        lat        lon\n",
       "68701 2015-05-12 02:21:24  1036  bus         4  50.666511  51.099836\n",
       "68702 2015-05-12 02:22:44  1036  bus         4  50.664741  51.095104\n",
       "68703 2015-05-12 02:23:44  1036  bus         4  50.665126  51.086566\n",
       "68704 2015-05-12 02:24:44  1036  bus         4  50.666279  51.082240\n",
       "68705 2015-05-12 02:25:44  1036  bus         4  50.665363  51.081512"
      ]
     },
     "execution_count": 8,
     "metadata": {},
     "output_type": "execute_result"
    }
   ],
   "source": [
    "bus_id.shape\n",
    "bus_id.head()"
   ]
  },
  {
   "cell_type": "code",
   "execution_count": 9,
   "metadata": {
    "collapsed": false
   },
   "outputs": [
    {
     "data": {
      "text/plain": [
       "<matplotlib.collections.PathCollection at 0xb99ca58>"
      ]
     },
     "execution_count": 9,
     "metadata": {},
     "output_type": "execute_result"
    },
    {
     "data": {
      "image/png": "[encoded data removed]",
      "text/plain": [
       "<matplotlib.figure.Figure at 0x696eb70>"
      ]
     },
     "metadata": {},
     "output_type": "display_data"
    }
   ],
   "source": [
    "plt.scatter(bus_id['lat'],bus_id['lon'])"
   ]
  },
  {
   "cell_type": "code",
   "execution_count": 10,
   "metadata": {
    "collapsed": true
   },
   "outputs": [],
   "source": [
    "from ipywidgets import widgets, interact"
   ]
  },
  {
   "cell_type": "code",
   "execution_count": 11,
   "metadata": {
    "collapsed": true
   },
   "outputs": [],
   "source": [
    "unq_tm = np.sort(bus_id['datetime'].unique())\n",
    "n_tm = unq_tm.shape[0]"
   ]
  },
  {
   "cell_type": "code",
   "execution_count": 12,
   "metadata": {
    "collapsed": true
   },
   "outputs": [],
   "source": [
    "def fnc(x):\n",
    "    bs_tm = bus_id[bus_id['datetime']<=unq_tm[x]][:]\n",
    "    plt.scatter(bs_tm['lat'],bs_tm['lon'])\n",
    "    plt.show()\n",
    "    return unq_tm[x]"
   ]
  },
  {
   "cell_type": "code",
   "execution_count": 13,
   "metadata": {
    "collapsed": false
   },
   "outputs": [
    {
     "data": {
      "image/png": "[encoded data removed]",
      "text/plain": [
       "<matplotlib.figure.Figure at 0xbb51f98>"
      ]
     },
     "metadata": {},
     "output_type": "display_data"
    },
    {
     "data": {
      "text/plain": [
       "numpy.datetime64('2015-05-12T11:50:07.000000000')"
      ]
     },
     "metadata": {},
     "output_type": "display_data"
    },
    {
     "data": {
      "text/plain": [
       "<function __main__.fnc>"
      ]
     },
     "execution_count": 13,
     "metadata": {},
     "output_type": "execute_result"
    }
   ],
   "source": [
    "interact(fnc,x=(0,n_tm-1))"
   ]
  },
  {
   "cell_type": "markdown",
   "metadata": {},
   "source": [
    "отображение на карте заданного типа транспорта с уникальным ид маршрута и ид транспортного средства в текущей момент времени\n",
    "уникальные маршруты хранятся вследующих массивах\n",
    "* tram_routes\n",
    "* bus_routes\n",
    "* trol_routes\n",
    "\n",
    "далее необходимо взять ид транспортного средства\n",
    "\n",
    "что бы работал вывод скоростей и задержек надо закачать файл с дополнительной информацией ниже есть загрузка\n",
    "или вычислить самому эти параметры как в блоке (вычисления доп. параметров ниже)"
   ]
  },
  {
   "cell_type": "code",
   "execution_count": null,
   "metadata": {
    "collapsed": true
   },
   "outputs": [],
   "source": [
    "data_cp = pd.read_csv('dataNew.tsv',sep='\\t')\n",
    "data_cp['datetime'] = pd.to_datetime(data_cp['datetime'])"
   ]
  },
  {
   "cell_type": "code",
   "execution_count": 14,
   "metadata": {
    "collapsed": false
   },
   "outputs": [
    {
     "data": {
      "text/plain": [
       "(1105, 6)"
      ]
     },
     "execution_count": 14,
     "metadata": {},
     "output_type": "execute_result"
    }
   ],
   "source": [
    "uniq_transport = np.unique(data_df[(data_df['type']=='bus')&(data_df['route_id']==bus_routes[68])]['id'])\n",
    "transp_id = data_df[(data_df['type']=='bus')&(data_df['route_id']==bus_routes[68])&(data_df['id']==uniq_transport[2])]\n",
    "transp_id.shape"
   ]
  },
  {
   "cell_type": "code",
   "execution_count": 35,
   "metadata": {
    "collapsed": false
   },
   "outputs": [
    {
     "data": {
      "text/plain": [
       "(1105, 10)"
      ]
     },
     "execution_count": 35,
     "metadata": {},
     "output_type": "execute_result"
    }
   ],
   "source": [
    "#для скорости\n",
    "transpExt_id = data_cp[(data_df['type']=='bus')&(data_df['route_id']==bus_routes[68])&(data_df['id']==uniq_transport[2])]"
   ]
  },
  {
   "cell_type": "code",
   "execution_count": 15,
   "metadata": {
    "collapsed": false
   },
   "outputs": [
    {
     "data": {
      "text/plain": [
       "array(['bus', 'tramway', 'trolleybus'], dtype=object)"
      ]
     },
     "execution_count": 15,
     "metadata": {},
     "output_type": "execute_result"
    }
   ],
   "source": [
    "target_stops['transport_type'].unique()"
   ]
  },
  {
   "cell_type": "code",
   "execution_count": 16,
   "metadata": {
    "collapsed": false
   },
   "outputs": [
    {
     "name": "stdout",
     "output_type": "stream",
     "text": [
      "[86]\n",
      "[11]\n",
      "[71]\n"
     ]
    }
   ],
   "source": [
    "print(target_stops[target_stops['transport_type']=='bus']['route_id'].unique())\n",
    "print(target_stops[target_stops['transport_type']=='tramway']['route_id'].unique())\n",
    "print(target_stops[target_stops['transport_type']=='trolleybus']['route_id'].unique())"
   ]
  },
  {
   "cell_type": "code",
   "execution_count": 17,
   "metadata": {
    "collapsed": false
   },
   "outputs": [
    {
     "data": {
      "text/plain": [
       "(47, 4)"
      ]
     },
     "execution_count": 17,
     "metadata": {},
     "output_type": "execute_result"
    }
   ],
   "source": [
    "target_bus_stops= target_stops[target_stops['transport_type']=='bus']\n",
    "target_bus_stops.shape"
   ]
  },
  {
   "cell_type": "code",
   "execution_count": 19,
   "metadata": {
    "collapsed": false
   },
   "outputs": [],
   "source": [
    "import math\n",
    "thresh_size = 45.0\n",
    "\n",
    "def calc_dist(point1, point2):\n",
    "    rad = 6372795\n",
    "    #косинусы и синусы широт и разницы долгот\n",
    "    cl1 = math.cos(point1[0]*math.pi/180.)\n",
    "    cl2 = math.cos(point2[0]*math.pi/180.)\n",
    "    sl1 = math.sin(point1[0]*math.pi/180.)\n",
    "    sl2 = math.sin(point2[0]*math.pi/180.)\n",
    "    delta = point2[1]*math.pi/180. - point1[1]*math.pi/180.\n",
    "    cdelta = math.cos(delta)\n",
    "    sdelta = math.sin(delta)\n",
    "    #вычисления длины большого круга\n",
    "    y = math.sqrt(math.pow(cl2*sdelta,2)+math.pow(cl1*sl2-sl1*cl2*cdelta,2))\n",
    "    x = sl1*sl2+cl1*cl2*cdelta\n",
    "    ad = math.atan2(y,x)\n",
    "    dist = ad*rad\n",
    "    #вычисление начального азимута\n",
    "    x = (cl1*sl2) - (sl1*cl2*cdelta)\n",
    "    y = sdelta*cl2\n",
    "    if x==0:\n",
    "        x = x + 0.000001\n",
    "    z = math.degrees(math.atan(-y/x))\n",
    "\n",
    "    if (x < 0):\n",
    "        z = z+180.\n",
    "\n",
    "    z2 = (z+180.) % 360. - 180.\n",
    "    z2 = - math.radians(z2)\n",
    "    anglerad2 = z2 - ((2*math.pi)*math.floor((z2/(2*math.pi))) )\n",
    "    angledeg = (anglerad2*180.)/math.pi\n",
    "    \n",
    "    return dist, int(angledeg/thresh_size)"
   ]
  },
  {
   "cell_type": "code",
   "execution_count": 55,
   "metadata": {
    "collapsed": true
   },
   "outputs": [],
   "source": [
    "unq_time = np.sort(transp_id['datetime'].unique())\n",
    "len_time = unq_time.shape[0]\n",
    "\n",
    "def fnc(x):\n",
    "    bs_tm = transp_id[transp_id['datetime']<unq_time[x]][:]\n",
    "    lt, ln = transp_id[transp_id['datetime']==unq_time[x]][['lat','lon']].values[0]\n",
    "    rws=transpExt_id[transpExt_id['datetime']==unq_time[x]][['datetime','delay','dist','direction','velocity']]\n",
    "    print(rws)\n",
    "    plt.figure(figsize=(10,7))\n",
    "    plt.scatter(bs_tm['lat'],bs_tm['lon'],marker='o',color='blue')\n",
    "    plt.scatter(lt,ln,marker='o',color='red')\n",
    "    plt.scatter(target_bus_stops['lat'], target_bus_stops['lon'], marker='x', color='green', s=50)\n",
    "    plt.show()    \n",
    "    return unq_time[x]"
   ]
  },
  {
   "cell_type": "code",
   "execution_count": 56,
   "metadata": {
    "collapsed": false
   },
   "outputs": [
    {
     "name": "stdout",
     "output_type": "stream",
     "text": [
      "                  datetime  delay       dist  direction  velocity\n",
      "659412 2015-05-12 13:37:31   20.0  21.585312        4.0  1.079266\n"
     ]
    },
    {
     "data": {
      "image/png": "[encoded data removed]",
      "text/plain": [
       "<matplotlib.figure.Figure at 0xc0ac6a0>"
      ]
     },
     "metadata": {},
     "output_type": "display_data"
    },
    {
     "data": {
      "text/plain": [
       "numpy.datetime64('2015-05-12T13:37:31.000000000')"
      ]
     },
     "metadata": {},
     "output_type": "display_data"
    }
   ],
   "source": [
    "interact(fnc,x=(0,len_time-1))"
   ]
  },
  {
   "cell_type": "code",
   "execution_count": 33,
   "metadata": {
    "collapsed": false
   },
   "outputs": [
    {
     "data": {
      "text/html": [
       "<div>\n",
       "<table border=\"1\" class=\"dataframe\">\n",
       "  <thead>\n",
       "    <tr style=\"text-align: right;\">\n",
       "      <th></th>\n",
       "      <th>datetime</th>\n",
       "      <th>id</th>\n",
       "      <th>type</th>\n",
       "      <th>route_id</th>\n",
       "      <th>lat</th>\n",
       "      <th>lon</th>\n",
       "    </tr>\n",
       "  </thead>\n",
       "  <tbody>\n",
       "    <tr>\n",
       "      <th>0</th>\n",
       "      <td>2015-05-12 14:24:33</td>\n",
       "      <td>3982</td>\n",
       "      <td>tramway</td>\n",
       "      <td>1</td>\n",
       "      <td>50.700576</td>\n",
       "      <td>51.212909</td>\n",
       "    </tr>\n",
       "    <tr>\n",
       "      <th>1</th>\n",
       "      <td>2015-05-12 14:25:13</td>\n",
       "      <td>3982</td>\n",
       "      <td>tramway</td>\n",
       "      <td>1</td>\n",
       "      <td>50.702068</td>\n",
       "      <td>51.212772</td>\n",
       "    </tr>\n",
       "    <tr>\n",
       "      <th>2</th>\n",
       "      <td>2015-05-12 14:25:53</td>\n",
       "      <td>3982</td>\n",
       "      <td>tramway</td>\n",
       "      <td>1</td>\n",
       "      <td>50.702930</td>\n",
       "      <td>51.212703</td>\n",
       "    </tr>\n",
       "    <tr>\n",
       "      <th>3</th>\n",
       "      <td>2015-05-12 14:26:33</td>\n",
       "      <td>3982</td>\n",
       "      <td>tramway</td>\n",
       "      <td>1</td>\n",
       "      <td>50.705974</td>\n",
       "      <td>51.212421</td>\n",
       "    </tr>\n",
       "    <tr>\n",
       "      <th>4</th>\n",
       "      <td>2015-05-12 14:27:13</td>\n",
       "      <td>3982</td>\n",
       "      <td>tramway</td>\n",
       "      <td>1</td>\n",
       "      <td>50.706775</td>\n",
       "      <td>51.212428</td>\n",
       "    </tr>\n",
       "  </tbody>\n",
       "</table>\n",
       "</div>"
      ],
      "text/plain": [
       "             datetime    id     type  route_id        lat        lon\n",
       "0 2015-05-12 14:24:33  3982  tramway         1  50.700576  51.212909\n",
       "1 2015-05-12 14:25:13  3982  tramway         1  50.702068  51.212772\n",
       "2 2015-05-12 14:25:53  3982  tramway         1  50.702930  51.212703\n",
       "3 2015-05-12 14:26:33  3982  tramway         1  50.705974  51.212421\n",
       "4 2015-05-12 14:27:13  3982  tramway         1  50.706775  51.212428"
      ]
     },
     "execution_count": 33,
     "metadata": {},
     "output_type": "execute_result"
    }
   ],
   "source": [
    "data_df.head()"
   ]
  },
  {
   "cell_type": "code",
   "execution_count": 36,
   "metadata": {
    "collapsed": false,
    "scrolled": true
   },
   "outputs": [
    {
     "name": "stderr",
     "output_type": "stream",
     "text": [
      "/home/roman/anaconda3/lib/python3.5/site-packages/ipykernel/__main__.py:2: SettingWithCopyWarning: \n",
      "A value is trying to be set on a copy of a slice from a DataFrame.\n",
      "Try using .loc[row_indexer,col_indexer] = value instead\n",
      "\n",
      "See the caveats in the documentation: http://pandas.pydata.org/pandas-docs/stable/indexing.html#indexing-view-versus-copy\n",
      "  from ipykernel import kernelapp as app\n",
      "/home/roman/anaconda3/lib/python3.5/site-packages/ipykernel/__main__.py:3: SettingWithCopyWarning: \n",
      "A value is trying to be set on a copy of a slice from a DataFrame.\n",
      "Try using .loc[row_indexer,col_indexer] = value instead\n",
      "\n",
      "See the caveats in the documentation: http://pandas.pydata.org/pandas-docs/stable/indexing.html#indexing-view-versus-copy\n",
      "  app.launch_new_instance()\n",
      "/home/roman/anaconda3/lib/python3.5/site-packages/ipykernel/__main__.py:4: SettingWithCopyWarning: \n",
      "A value is trying to be set on a copy of a slice from a DataFrame.\n",
      "Try using .loc[row_indexer,col_indexer] = value instead\n",
      "\n",
      "See the caveats in the documentation: http://pandas.pydata.org/pandas-docs/stable/indexing.html#indexing-view-versus-copy\n",
      "/home/roman/anaconda3/lib/python3.5/site-packages/ipykernel/__main__.py:5: SettingWithCopyWarning: \n",
      "A value is trying to be set on a copy of a slice from a DataFrame.\n",
      "Try using .loc[row_indexer,col_indexer] = value instead\n",
      "\n",
      "See the caveats in the documentation: http://pandas.pydata.org/pandas-docs/stable/indexing.html#indexing-view-versus-copy\n",
      "/home/roman/anaconda3/lib/python3.5/site-packages/ipykernel/__main__.py:32: SettingWithCopyWarning: \n",
      "A value is trying to be set on a copy of a slice from a DataFrame.\n",
      "Try using .loc[row_indexer,col_indexer] = value instead\n",
      "\n",
      "See the caveats in the documentation: http://pandas.pydata.org/pandas-docs/stable/indexing.html#indexing-view-versus-copy\n",
      "/home/roman/anaconda3/lib/python3.5/site-packages/ipykernel/__main__.py:33: SettingWithCopyWarning: \n",
      "A value is trying to be set on a copy of a slice from a DataFrame.\n",
      "Try using .loc[row_indexer,col_indexer] = value instead\n",
      "\n",
      "See the caveats in the documentation: http://pandas.pydata.org/pandas-docs/stable/indexing.html#indexing-view-versus-copy\n",
      "/home/roman/anaconda3/lib/python3.5/site-packages/ipykernel/__main__.py:34: SettingWithCopyWarning: \n",
      "A value is trying to be set on a copy of a slice from a DataFrame.\n",
      "Try using .loc[row_indexer,col_indexer] = value instead\n",
      "\n",
      "See the caveats in the documentation: http://pandas.pydata.org/pandas-docs/stable/indexing.html#indexing-view-versus-copy\n",
      "/home/roman/anaconda3/lib/python3.5/site-packages/ipykernel/__main__.py:35: SettingWithCopyWarning: \n",
      "A value is trying to be set on a copy of a slice from a DataFrame.\n",
      "Try using .loc[row_indexer,col_indexer] = value instead\n",
      "\n",
      "See the caveats in the documentation: http://pandas.pydata.org/pandas-docs/stable/indexing.html#indexing-view-versus-copy\n",
      "/home/roman/anaconda3/lib/python3.5/site-packages/ipykernel/__main__.py:37: SettingWithCopyWarning: \n",
      "A value is trying to be set on a copy of a slice from a DataFrame.\n",
      "Try using .loc[row_indexer,col_indexer] = value instead\n",
      "\n",
      "See the caveats in the documentation: http://pandas.pydata.org/pandas-docs/stable/indexing.html#indexing-view-versus-copy\n",
      "/home/roman/anaconda3/lib/python3.5/site-packages/pandas/core/indexing.py:465: SettingWithCopyWarning: \n",
      "A value is trying to be set on a copy of a slice from a DataFrame.\n",
      "Try using .loc[row_indexer,col_indexer] = value instead\n",
      "\n",
      "See the caveats in the documentation: http://pandas.pydata.org/pandas-docs/stable/indexing.html#indexing-view-versus-copy\n",
      "  self.obj[item] = s\n"
     ]
    },
    {
     "name": "stdout",
     "output_type": "stream",
     "text": [
      "\n"
     ]
    }
   ],
   "source": [
    "#вычисление дополнительных параметров\n",
    "\n",
    "data_cp = data_df[:]\n",
    "data_cp['delay']=0.0 \n",
    "data_cp['dist']=0.0 \n",
    "data_cp['direction']=0.0 \n",
    "data_cp['velocity']=0.0 \n",
    "\n",
    "for transportType in tqdm_notebook(data_cp['type'].unique(), desc='1st loop transport type'):\n",
    "    unq_routs = np.unique(data_cp[data_cp['type']==transportType]['route_id'])\n",
    "    for route in tqdm_notebook(unq_routs, desc='2nd loop routes'):\n",
    "        unq_id = np.unique(data_cp[(data_cp['type']==transportType)&(data_cp['route_id']==route)]['id'])\n",
    "        for trnsp in tqdm_notebook(unq_id, desc='3rd loop id transport'):\n",
    "            data_way = data_cp[(data_cp['type']==transportType)&(data_cp['route_id']==route)&(data_cp['id']==trnsp)]\n",
    "            \n",
    "            dtws = data_way[['datetime','lat','lon']].values\n",
    "            tms = dtws[:,0]\n",
    "            crds = dtws[:,1:]\n",
    "            crdt = np.append([crds[0]],crds[:-1])\n",
    "            crdt = crdt.reshape(crds.shape)\n",
    "            tpmn = np.append([tms[0]],tms[:-1])\n",
    "            dltm = tms - tpmn\n",
    "            \n",
    "            tmdl = np.array([])\n",
    "            dst = np.array([])\n",
    "            for ind in np.arange(tms.shape[0]):\n",
    "                vlf = np.timedelta64(dltm[ind],'s').astype(float)\n",
    "                tmdl = np.append(tmdl,[vlf])\n",
    "                vl = calc_dist(crds[ind],crdt[ind])\n",
    "                dst = np.append(dst,[vl])\n",
    "\n",
    "            dst = dst.reshape(crds.shape)\n",
    "\n",
    "            data_way['delay'] = tmdl\n",
    "            data_way['dist'] = dst[:,0]\n",
    "            data_way['direction'] = dst[:,1]\n",
    "            data_way['velocity'] = dst[:,0]/(tmdl+0.0000000001)\n",
    "            \n",
    "            data_cp[(data_cp['type']==transportType)&(data_cp['route_id']==route)&(data_cp['id']==trnsp)] = data_way"
   ]
  },
  {
   "cell_type": "code",
   "execution_count": 38,
   "metadata": {
    "collapsed": false
   },
   "outputs": [
    {
     "data": {
      "text/html": [
       "<div>\n",
       "<table border=\"1\" class=\"dataframe\">\n",
       "  <thead>\n",
       "    <tr style=\"text-align: right;\">\n",
       "      <th></th>\n",
       "      <th>datetime</th>\n",
       "      <th>id</th>\n",
       "      <th>type</th>\n",
       "      <th>route_id</th>\n",
       "      <th>lat</th>\n",
       "      <th>lon</th>\n",
       "      <th>delay</th>\n",
       "      <th>dist</th>\n",
       "      <th>direction</th>\n",
       "      <th>velocity</th>\n",
       "    </tr>\n",
       "  </thead>\n",
       "  <tbody>\n",
       "    <tr>\n",
       "      <th>0</th>\n",
       "      <td>2015-05-12 14:24:33</td>\n",
       "      <td>3982</td>\n",
       "      <td>tramway</td>\n",
       "      <td>1</td>\n",
       "      <td>50.700576</td>\n",
       "      <td>51.212909</td>\n",
       "      <td>0.0</td>\n",
       "      <td>0.000000</td>\n",
       "      <td>0.0</td>\n",
       "      <td>0.000000</td>\n",
       "    </tr>\n",
       "    <tr>\n",
       "      <th>1</th>\n",
       "      <td>2015-05-12 14:25:13</td>\n",
       "      <td>3982</td>\n",
       "      <td>tramway</td>\n",
       "      <td>1</td>\n",
       "      <td>50.702068</td>\n",
       "      <td>51.212772</td>\n",
       "      <td>40.0</td>\n",
       "      <td>166.229980</td>\n",
       "      <td>3.0</td>\n",
       "      <td>4.155749</td>\n",
       "    </tr>\n",
       "    <tr>\n",
       "      <th>2</th>\n",
       "      <td>2015-05-12 14:25:53</td>\n",
       "      <td>3982</td>\n",
       "      <td>tramway</td>\n",
       "      <td>1</td>\n",
       "      <td>50.702930</td>\n",
       "      <td>51.212703</td>\n",
       "      <td>40.0</td>\n",
       "      <td>96.000165</td>\n",
       "      <td>3.0</td>\n",
       "      <td>2.400004</td>\n",
       "    </tr>\n",
       "    <tr>\n",
       "      <th>3</th>\n",
       "      <td>2015-05-12 14:26:33</td>\n",
       "      <td>3982</td>\n",
       "      <td>tramway</td>\n",
       "      <td>1</td>\n",
       "      <td>50.705974</td>\n",
       "      <td>51.212421</td>\n",
       "      <td>40.0</td>\n",
       "      <td>339.154965</td>\n",
       "      <td>3.0</td>\n",
       "      <td>8.478874</td>\n",
       "    </tr>\n",
       "    <tr>\n",
       "      <th>4</th>\n",
       "      <td>2015-05-12 14:27:13</td>\n",
       "      <td>3982</td>\n",
       "      <td>tramway</td>\n",
       "      <td>1</td>\n",
       "      <td>50.706775</td>\n",
       "      <td>51.212428</td>\n",
       "      <td>40.0</td>\n",
       "      <td>89.093595</td>\n",
       "      <td>4.0</td>\n",
       "      <td>2.227340</td>\n",
       "    </tr>\n",
       "  </tbody>\n",
       "</table>\n",
       "</div>"
      ],
      "text/plain": [
       "             datetime    id     type  route_id        lat        lon  delay  \\\n",
       "0 2015-05-12 14:24:33  3982  tramway         1  50.700576  51.212909    0.0   \n",
       "1 2015-05-12 14:25:13  3982  tramway         1  50.702068  51.212772   40.0   \n",
       "2 2015-05-12 14:25:53  3982  tramway         1  50.702930  51.212703   40.0   \n",
       "3 2015-05-12 14:26:33  3982  tramway         1  50.705974  51.212421   40.0   \n",
       "4 2015-05-12 14:27:13  3982  tramway         1  50.706775  51.212428   40.0   \n",
       "\n",
       "         dist  direction  velocity  \n",
       "0    0.000000        0.0  0.000000  \n",
       "1  166.229980        3.0  4.155749  \n",
       "2   96.000165        3.0  2.400004  \n",
       "3  339.154965        3.0  8.478874  \n",
       "4   89.093595        4.0  2.227340  "
      ]
     },
     "execution_count": 38,
     "metadata": {},
     "output_type": "execute_result"
    }
   ],
   "source": [
    "data_cp.head()"
   ]
  },
  {
   "cell_type": "code",
   "execution_count": 41,
   "metadata": {
    "collapsed": false
   },
   "outputs": [
    {
     "data": {
      "text/html": [
       "<div>\n",
       "<table border=\"1\" class=\"dataframe\">\n",
       "  <thead>\n",
       "    <tr style=\"text-align: right;\">\n",
       "      <th></th>\n",
       "      <th>count</th>\n",
       "      <th>mean</th>\n",
       "      <th>std</th>\n",
       "      <th>min</th>\n",
       "      <th>25%</th>\n",
       "      <th>50%</th>\n",
       "      <th>75%</th>\n",
       "      <th>max</th>\n",
       "    </tr>\n",
       "  </thead>\n",
       "  <tbody>\n",
       "    <tr>\n",
       "      <th>id</th>\n",
       "      <td>1064095.0</td>\n",
       "      <td>4291.581742</td>\n",
       "      <td>2982.796960</td>\n",
       "      <td>759.000000</td>\n",
       "      <td>1501.000000</td>\n",
       "      <td>3475.000000</td>\n",
       "      <td>7136.000000</td>\n",
       "      <td>10319.000000</td>\n",
       "    </tr>\n",
       "    <tr>\n",
       "      <th>route_id</th>\n",
       "      <td>1064095.0</td>\n",
       "      <td>63.941277</td>\n",
       "      <td>48.076470</td>\n",
       "      <td>1.000000</td>\n",
       "      <td>29.000000</td>\n",
       "      <td>53.000000</td>\n",
       "      <td>89.000000</td>\n",
       "      <td>224.000000</td>\n",
       "    </tr>\n",
       "    <tr>\n",
       "      <th>lat</th>\n",
       "      <td>1064095.0</td>\n",
       "      <td>50.606622</td>\n",
       "      <td>0.084658</td>\n",
       "      <td>50.296417</td>\n",
       "      <td>50.544712</td>\n",
       "      <td>50.611568</td>\n",
       "      <td>50.676059</td>\n",
       "      <td>51.046154</td>\n",
       "    </tr>\n",
       "    <tr>\n",
       "      <th>lon</th>\n",
       "      <td>1064095.0</td>\n",
       "      <td>51.106284</td>\n",
       "      <td>0.143798</td>\n",
       "      <td>50.145202</td>\n",
       "      <td>51.053720</td>\n",
       "      <td>51.128475</td>\n",
       "      <td>51.189899</td>\n",
       "      <td>52.058666</td>\n",
       "    </tr>\n",
       "    <tr>\n",
       "      <th>delay</th>\n",
       "      <td>1064095.0</td>\n",
       "      <td>93.369071</td>\n",
       "      <td>466.724373</td>\n",
       "      <td>-68263.000000</td>\n",
       "      <td>20.000000</td>\n",
       "      <td>40.000000</td>\n",
       "      <td>81.000000</td>\n",
       "      <td>66702.000000</td>\n",
       "    </tr>\n",
       "    <tr>\n",
       "      <th>dist</th>\n",
       "      <td>1064095.0</td>\n",
       "      <td>332.333915</td>\n",
       "      <td>584.318021</td>\n",
       "      <td>0.000000</td>\n",
       "      <td>77.484394</td>\n",
       "      <td>189.774956</td>\n",
       "      <td>411.852899</td>\n",
       "      <td>55570.443203</td>\n",
       "    </tr>\n",
       "    <tr>\n",
       "      <th>direction</th>\n",
       "      <td>1064095.0</td>\n",
       "      <td>3.571571</td>\n",
       "      <td>2.282586</td>\n",
       "      <td>0.000000</td>\n",
       "      <td>2.000000</td>\n",
       "      <td>3.000000</td>\n",
       "      <td>6.000000</td>\n",
       "      <td>7.000000</td>\n",
       "    </tr>\n",
       "    <tr>\n",
       "      <th>velocity</th>\n",
       "      <td>1064095.0</td>\n",
       "      <td>5.280547</td>\n",
       "      <td>4.180088</td>\n",
       "      <td>-0.052811</td>\n",
       "      <td>2.234260</td>\n",
       "      <td>4.459174</td>\n",
       "      <td>7.132662</td>\n",
       "      <td>83.870919</td>\n",
       "    </tr>\n",
       "  </tbody>\n",
       "</table>\n",
       "</div>"
      ],
      "text/plain": [
       "               count         mean          std           min          25%  \\\n",
       "id         1064095.0  4291.581742  2982.796960    759.000000  1501.000000   \n",
       "route_id   1064095.0    63.941277    48.076470      1.000000    29.000000   \n",
       "lat        1064095.0    50.606622     0.084658     50.296417    50.544712   \n",
       "lon        1064095.0    51.106284     0.143798     50.145202    51.053720   \n",
       "delay      1064095.0    93.369071   466.724373 -68263.000000    20.000000   \n",
       "dist       1064095.0   332.333915   584.318021      0.000000    77.484394   \n",
       "direction  1064095.0     3.571571     2.282586      0.000000     2.000000   \n",
       "velocity   1064095.0     5.280547     4.180088     -0.052811     2.234260   \n",
       "\n",
       "                   50%          75%           max  \n",
       "id         3475.000000  7136.000000  10319.000000  \n",
       "route_id     53.000000    89.000000    224.000000  \n",
       "lat          50.611568    50.676059     51.046154  \n",
       "lon          51.128475    51.189899     52.058666  \n",
       "delay        40.000000    81.000000  66702.000000  \n",
       "dist        189.774956   411.852899  55570.443203  \n",
       "direction     3.000000     6.000000      7.000000  \n",
       "velocity      4.459174     7.132662     83.870919  "
      ]
     },
     "execution_count": 41,
     "metadata": {},
     "output_type": "execute_result"
    }
   ],
   "source": [
    "data_cp.describe().T"
   ]
  },
  {
   "cell_type": "code",
   "execution_count": 48,
   "metadata": {
    "collapsed": true
   },
   "outputs": [],
   "source": [
    "data_cp.to_csv('/home/roman/work/data/stops/dataNew.tsv', sep='\\t',index=False)"
   ]
  },
  {
   "cell_type": "code",
   "execution_count": 54,
   "metadata": {
    "collapsed": false
   },
   "outputs": [],
   "source": [
    "df_stopsCount = pd.read_csv( '/home/roman/work/data/stops/route_to_stops_count.tsv', sep = '\\t', names = ['type', 'route_id', 'count'])\n"
   ]
  },
  {
   "cell_type": "code",
   "execution_count": 56,
   "metadata": {
    "collapsed": false
   },
   "outputs": [
    {
     "name": "stdout",
     "output_type": "stream",
     "text": [
      "(281, 3)\n"
     ]
    },
    {
     "data": {
      "text/html": [
       "<div>\n",
       "<table border=\"1\" class=\"dataframe\">\n",
       "  <thead>\n",
       "    <tr style=\"text-align: right;\">\n",
       "      <th></th>\n",
       "      <th>type</th>\n",
       "      <th>route_id</th>\n",
       "      <th>count</th>\n",
       "    </tr>\n",
       "  </thead>\n",
       "  <tbody>\n",
       "    <tr>\n",
       "      <th>0</th>\n",
       "      <td>bus</td>\n",
       "      <td>86</td>\n",
       "      <td>47</td>\n",
       "    </tr>\n",
       "    <tr>\n",
       "      <th>1</th>\n",
       "      <td>bus</td>\n",
       "      <td>55</td>\n",
       "      <td>60</td>\n",
       "    </tr>\n",
       "    <tr>\n",
       "      <th>2</th>\n",
       "      <td>bus</td>\n",
       "      <td>198</td>\n",
       "      <td>49</td>\n",
       "    </tr>\n",
       "    <tr>\n",
       "      <th>3</th>\n",
       "      <td>bus</td>\n",
       "      <td>98</td>\n",
       "      <td>36</td>\n",
       "    </tr>\n",
       "    <tr>\n",
       "      <th>4</th>\n",
       "      <td>bus</td>\n",
       "      <td>107</td>\n",
       "      <td>41</td>\n",
       "    </tr>\n",
       "  </tbody>\n",
       "</table>\n",
       "</div>"
      ],
      "text/plain": [
       "  type  route_id  count\n",
       "0  bus        86     47\n",
       "1  bus        55     60\n",
       "2  bus       198     49\n",
       "3  bus        98     36\n",
       "4  bus       107     41"
      ]
     },
     "execution_count": 56,
     "metadata": {},
     "output_type": "execute_result"
    }
   ],
   "source": [
    "print(df_stopsCount.shape)\n",
    "df_stopsCount.head()"
   ]
  },
  {
   "cell_type": "markdown",
   "metadata": {},
   "source": [
    "Для классификации пока нехватает размеченной выборки надо разметить для 3-х маршрутов тогда можно обучать классификаторы, пока можно попробовать только кластеризацию"
   ]
  },
  {
   "cell_type": "code",
   "execution_count": 57,
   "metadata": {
    "collapsed": true
   },
   "outputs": [],
   "source": [
    "from sklearn.cluster import KMeans"
   ]
  },
  {
   "cell_type": "markdown",
   "metadata": {},
   "source": [
    "попробуем для тренировочного набора посмотреть что получится из этого"
   ]
  },
  {
   "cell_type": "code",
   "execution_count": 66,
   "metadata": {
    "collapsed": false
   },
   "outputs": [
    {
     "data": {
      "text/plain": [
       "array(['bus', 86, 47], dtype=object)"
      ]
     },
     "execution_count": 66,
     "metadata": {},
     "output_type": "execute_result"
    }
   ],
   "source": [
    "df_stopsCount.values[0]"
   ]
  },
  {
   "cell_type": "code",
   "execution_count": 131,
   "metadata": {
    "collapsed": true
   },
   "outputs": [],
   "source": [
    "tr_type, route, cntStops = df_stopsCount.values[0]"
   ]
  },
  {
   "cell_type": "code",
   "execution_count": 125,
   "metadata": {
    "collapsed": false
   },
   "outputs": [],
   "source": [
    "crds = data_cp[(data_cp['type'] == tr_type)][['lat', 'lon', 'velocity']]"
   ]
  },
  {
   "cell_type": "code",
   "execution_count": 126,
   "metadata": {
    "collapsed": false
   },
   "outputs": [],
   "source": [
    "kmeans = KMeans(n_clusters = cntStops, n_init=1).fit(crds)\n",
    "pred_stpos = kmeans.cluster_centers_\n"
   ]
  },
  {
   "cell_type": "code",
   "execution_count": 138,
   "metadata": {
    "collapsed": false
   },
   "outputs": [
    {
     "data": {
      "text/plain": [
       "(47, 2)"
      ]
     },
     "execution_count": 138,
     "metadata": {},
     "output_type": "execute_result"
    }
   ],
   "source": [
    "pred_stpos[:,0:2].shape"
   ]
  },
  {
   "cell_type": "markdown",
   "metadata": {},
   "source": [
    "посмотрим что получилось"
   ]
  },
  {
   "cell_type": "code",
   "execution_count": 129,
   "metadata": {
    "collapsed": false
   },
   "outputs": [
    {
     "data": {
      "image/png": "[encoded data removed]",
      "text/plain": [
       "<matplotlib.figure.Figure at 0x7fa62b9e1438>"
      ]
     },
     "metadata": {},
     "output_type": "display_data"
    }
   ],
   "source": [
    "plt.figure(figsize=(10,7))\n",
    "plt.scatter(pred_stpos[:,0],pred_stpos[:,1],marker='o',color='red')\n",
    "plt.scatter(target_bus_stops['lat'],target_bus_stops['lon'],marker='o',color='green')\n",
    "plt.show()\n",
    "    "
   ]
  },
  {
   "cell_type": "markdown",
   "metadata": {},
   "source": [
    "при кластеризации со скоростью центры кластеров как-то всё-таки напоминают маршрут(что-то похожее есть)"
   ]
  },
  {
   "cell_type": "code",
   "execution_count": 114,
   "metadata": {
    "collapsed": true
   },
   "outputs": [],
   "source": [
    "from mpl_toolkits.mplot3d import Axes3D"
   ]
  },
  {
   "cell_type": "code",
   "execution_count": 130,
   "metadata": {
    "collapsed": false
   },
   "outputs": [
    {
     "data": {
      "image/png": "[encoded data removed]",
      "text/plain": [
       "<matplotlib.figure.Figure at 0x7fa62b93fac8>"
      ]
     },
     "metadata": {},
     "output_type": "display_data"
    }
   ],
   "source": [
    "fig = plt.figure()\n",
    "ax = fig.add_subplot(111, projection='3d')\n",
    "ax.scatter(pred_stpos[:,0], pred_stpos[:,1], 0, c='r')\n",
    "ax.scatter(target_bus_stops['lat'],target_bus_stops['lon'], 0, c='b')\n",
    "plt.show()"
   ]
  },
  {
   "cell_type": "markdown",
   "metadata": {},
   "source": [
    "что-то странно..  почему центры кластеров за пределами множества точек..."
   ]
  },
  {
   "cell_type": "code",
   "execution_count": 158,
   "metadata": {
    "collapsed": false
   },
   "outputs": [
    {
     "name": "stderr",
     "output_type": "stream",
     "text": [
      "/home/roman/anaconda3/lib/python3.5/site-packages/ipykernel/__main__.py:9: VisibleDeprecationWarning: using a non-integer number instead of an integer will result in an error in the future\n"
     ]
    },
    {
     "name": "stdout",
     "output_type": "stream",
     "text": [
      "\n"
     ]
    }
   ],
   "source": [
    "listStops = np.array([])\n",
    "for row in tqdm_notebook(df_stopsCount.values):\n",
    "    tr_type, route, cntStops = row\n",
    "    #координаты для кластеризации\n",
    "    crds = data_cp[(data_cp['type'] == tr_type)][['lat', 'lon', 'velocity']]\n",
    "    kmeans = KMeans(n_clusters = cntStops, n_init=1).fit(crds)\n",
    "    pred_stpos = kmeans.cluster_centers_\n",
    "    listStops = np.append(listStops,pred_stpos[:,0:2][:])\n",
    "    listStops = listStops.reshape((listStops.shape[0]/2,2))"
   ]
  },
  {
   "cell_type": "code",
   "execution_count": 178,
   "metadata": {
    "collapsed": false
   },
   "outputs": [
    {
     "data": {
      "text/plain": [
       "(12021, 2)"
      ]
     },
     "execution_count": 178,
     "metadata": {},
     "output_type": "execute_result"
    }
   ],
   "source": [
    "listStops.shape"
   ]
  },
  {
   "cell_type": "code",
   "execution_count": 173,
   "metadata": {
    "collapsed": false
   },
   "outputs": [
    {
     "data": {
      "text/html": [
       "<div>\n",
       "<table border=\"1\" class=\"dataframe\">\n",
       "  <thead>\n",
       "    <tr style=\"text-align: right;\">\n",
       "      <th></th>\n",
       "      <th>0</th>\n",
       "      <th>1</th>\n",
       "    </tr>\n",
       "  </thead>\n",
       "  <tbody>\n",
       "    <tr>\n",
       "      <th>12016</th>\n",
       "      <td>50.565421</td>\n",
       "      <td>51.029541</td>\n",
       "    </tr>\n",
       "    <tr>\n",
       "      <th>12017</th>\n",
       "      <td>50.610292</td>\n",
       "      <td>50.611217</td>\n",
       "    </tr>\n",
       "    <tr>\n",
       "      <th>12018</th>\n",
       "      <td>50.595090</td>\n",
       "      <td>50.661526</td>\n",
       "    </tr>\n",
       "    <tr>\n",
       "      <th>12019</th>\n",
       "      <td>50.602820</td>\n",
       "      <td>51.142986</td>\n",
       "    </tr>\n",
       "    <tr>\n",
       "      <th>12020</th>\n",
       "      <td>50.600961</td>\n",
       "      <td>51.064807</td>\n",
       "    </tr>\n",
       "  </tbody>\n",
       "</table>\n",
       "</div>"
      ],
      "text/plain": [
       "               0          1\n",
       "12016  50.565421  51.029541\n",
       "12017  50.610292  50.611217\n",
       "12018  50.595090  50.661526\n",
       "12019  50.602820  51.142986\n",
       "12020  50.600961  51.064807"
      ]
     },
     "execution_count": 173,
     "metadata": {},
     "output_type": "execute_result"
    }
   ],
   "source": [
    "pd.DataFrame(listStops).tail()"
   ]
  },
  {
   "cell_type": "code",
   "execution_count": 184,
   "metadata": {
    "collapsed": false
   },
   "outputs": [
    {
     "data": {
      "text/plain": [
       "(12021, 2)"
      ]
     },
     "execution_count": 184,
     "metadata": {},
     "output_type": "execute_result"
    }
   ],
   "source": [
    "listStops.shape"
   ]
  },
  {
   "cell_type": "code",
   "execution_count": 181,
   "metadata": {
    "collapsed": true
   },
   "outputs": [],
   "source": [
    "listStopsVel = listStops[:]"
   ]
  },
  {
   "cell_type": "code",
   "execution_count": 180,
   "metadata": {
    "collapsed": false
   },
   "outputs": [],
   "source": [
    "np.savetxt('/home/roman/work/data/stops/answ3.txt',listStops,fmt='%.9s')"
   ]
  },
  {
   "cell_type": "code",
   "execution_count": 171,
   "metadata": {
    "collapsed": false
   },
   "outputs": [],
   "source": [
    "pd.DataFrame(listStops).to_csv('/home/roman/work/data/stops/answ1.txt',sep=' ',header=False, index=False)"
   ]
  },
  {
   "cell_type": "code",
   "execution_count": 201,
   "metadata": {
    "collapsed": false
   },
   "outputs": [
    {
     "name": "stderr",
     "output_type": "stream",
     "text": [
      "/home/roman/anaconda3/lib/python3.5/site-packages/ipykernel/__main__.py:10: VisibleDeprecationWarning: using a non-integer number instead of an integer will result in an error in the future\n"
     ]
    },
    {
     "name": "stdout",
     "output_type": "stream",
     "text": [
      "\n"
     ]
    }
   ],
   "source": [
    "listStops = np.array([])\n",
    "for row in tqdm_notebook(df_stopsCount.values):\n",
    "    tr_type, route, cntStops = row\n",
    "    #координаты для кластеризации\n",
    "    if not((tr_type=='bus' and route==86)or(tr_type=='tramway' and route==11)or(tr_type=='trolleybus' and route==71)):\n",
    "        crds = data_cp[(data_cp['type'] == tr_type)][['lat', 'lon']]\n",
    "        kmeans = KMeans(n_clusters = cntStops, n_init=1).fit(crds)\n",
    "        pred_stpos = kmeans.cluster_centers_\n",
    "        listStops = np.append(listStops,pred_stpos[:])\n",
    "        listStops = listStops.reshape((listStops.shape[0]/2,2))"
   ]
  },
  {
   "cell_type": "code",
   "execution_count": 183,
   "metadata": {
    "collapsed": true
   },
   "outputs": [],
   "source": [
    "np.savetxt('/home/roman/work/data/stops/answ3_1.txt',listStops,fmt='%.9s')"
   ]
  },
  {
   "cell_type": "code",
   "execution_count": 200,
   "metadata": {
    "collapsed": true
   },
   "outputs": [],
   "source": [
    "listStopsAll = listStops[:]"
   ]
  },
  {
   "cell_type": "code",
   "execution_count": 211,
   "metadata": {
    "collapsed": false
   },
   "outputs": [],
   "source": [
    "npvls = target_stops[['lat','lon']].values[:]"
   ]
  },
  {
   "cell_type": "code",
   "execution_count": 214,
   "metadata": {
    "collapsed": false
   },
   "outputs": [
    {
     "name": "stderr",
     "output_type": "stream",
     "text": [
      "/home/roman/anaconda3/lib/python3.5/site-packages/ipykernel/__main__.py:2: VisibleDeprecationWarning: using a non-integer number instead of an integer will result in an error in the future\n",
      "  from ipykernel import kernelapp as app\n"
     ]
    }
   ],
   "source": [
    "listStops = np.append(listStops,npvls[:])\n",
    "listStops = listStops.reshape((listStops.shape[0]/2,2))"
   ]
  },
  {
   "cell_type": "code",
   "execution_count": 216,
   "metadata": {
    "collapsed": true
   },
   "outputs": [],
   "source": [
    "np.savetxt('/home/roman/work/data/stops/answ3_2.txt',listStops,fmt='%.9s')"
   ]
  },
  {
   "cell_type": "code",
   "execution_count": null,
   "metadata": {
    "collapsed": true
   },
   "outputs": [],
   "source": []
  }
 ],
 "metadata": {
  "anaconda-cloud": {},
  "kernelspec": {
   "display_name": "Python 3",
   "language": "python",
   "name": "python3"
  },
  "language_info": {
   "codemirror_mode": {
    "name": "ipython",
    "version": 3
   },
   "file_extension": ".py",
   "mimetype": "text/x-python",
   "name": "python",
   "nbconvert_exporter": "python",
   "pygments_lexer": "ipython3",
   "version": "3.5.2"
  },
  "widgets": {
   "state": {
    "2fe2b2a245f945f988ca52d9d9dfcdd8": {
     "views": [
      {
       "cell_index": 25
      }
     ]
    },
    "6662d893b7e1406fba1e8de7f5eeb030": {
     "views": [
      {
       "cell_index": 35
      }
     ]
    }
   },
   "version": "1.2.0"
  }
 },
 "nbformat": 4,
 "nbformat_minor": 1
}
